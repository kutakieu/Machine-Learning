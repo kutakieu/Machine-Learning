{
 "cells": [
  {
   "cell_type": "markdown",
   "metadata": {},
   "source": [
    "# Classification with Naive Bayes"
   ]
  },
  {
   "cell_type": "markdown",
   "metadata": {},
   "source": [
    "###### COMP4670/8600 - Introduction to Statistical Machine Learning - Assignment 1"
   ]
  },
  {
   "cell_type": "markdown",
   "metadata": {},
   "source": [
    "Name: Taku Ueki\n",
    "\n",
    "Student ID:u5934839"
   ]
  },
  {
   "cell_type": "markdown",
   "metadata": {},
   "source": [
    "## Instructions\n",
    "\n",
    "|             |Notes|\n",
    "|:------------|:--|\n",
    "|Maximum marks| 19|\n",
    "|Weight|19% of final grade|\n",
    "|Format| Complete this ipython notebook. Do not forget to fill in your name and student ID above|\n",
    "|Submission mode| Use [wattle](https://wattle.anu.edu.au/)|\n",
    "|Formulas| All formulas which you derive need to be explained unless you use very common mathematical facts. Picture yourself as explaining your arguments to somebody who is just learning about your assignment. With other words, do not assume that the person marking your assignment knows all the background and therefore you can just write down the formulas without any explanation. It is your task to convince the reader that you know what you are doing when you derive an argument. Typeset all formulas in $\\LaTeX$.|\n",
    "| Code quality | Python code should be well structured, use meaningful identifiers for variables and subroutines, and provide sufficient comments. Please refer to the examples given in the tutorials. |\n",
    "| Code efficiency | An efficient implementation of an algorithm uses fast subroutines provided by the language or additional libraries. For the purpose of implementing Machine Learning algorithms in this course, that means using the appropriate data structures provided by Python and in numpy/scipy (e.g. Linear Algebra and random generators). |\n",
    "| Late penalty | For every day (starts at midnight) after the deadline of an assignment, the mark will be reduced by 20%. No assignments shall be accepted if it is later than 5 days. | \n",
    "| Cooperation | All assignments must be done individually. Cheating and plagiarism will be dealt with in accordance with University procedures (please see the ANU policies on [Academic Honesty and Plagiarism](http://academichonesty.anu.edu.au)). Hence, for example, code for programming assignments must not be developed in groups, nor should code be shared. You are encouraged to broadly discuss ideas, approaches and techniques with a few other students, but not at a level of detail where specific solutions or implementation issues are described by anyone. If you choose to consult with other students, you will include the names of your discussion partners for each solution. If you have any questions on this, please ask the lecturer before you act. |\n",
    "| Solution | To be presented in the tutorials. |"
   ]
  },
  {
   "cell_type": "markdown",
   "metadata": {},
   "source": [
    "$\\newcommand{\\dotprod}[2]{\\left\\langle #1, #2 \\right\\rangle}$\n",
    "$\\newcommand{\\onevec}{\\mathbb{1}}$\n",
    "$\\newcommand{\\B}[1]{\\mathbf{#1}}$\n",
    "$\\newcommand{\\Bphi}{\\boldsymbol{\\mathsf{\\phi}}}$\n",
    "$\\newcommand{\\BPhi}{\\boldsymbol{\\Phi}}$\n",
    "$\\newcommand{\\Cond}{\\,|\\,}$\n",
    "$\\newcommand{\\DNorm}[3]{\\mathcal{N}(#1\\Cond#2, #3)}$\n",
    "$\\newcommand{\\DUniform}[3]{\\mathcal{U}(#1 \\Cond #2, #3)}$\n",
    "$\\newcommand{\\Ex}[2][]{\\mathbb{E}_{#1} \\left[ #2 \\right]}$\n",
    "$\\newcommand{\\var}[1]{\\operatorname{var}[#1]}$\n",
    "$\\newcommand{\\cov}[1]{\\operatorname{cov}[#1]}$\n",
    "$\\newcommand{\\Norm}[1]{\\lVert#1\\rVert}$\n",
    "$\\DeclareMathOperator*{\\argmax}{arg\\,max}$\n",
    "\n",
    "Setting up the environment (Please evaluate this cell to activate the $\\LaTeX$ macros.)"
   ]
  },
  {
   "cell_type": "code",
   "execution_count": 1,
   "metadata": {
    "collapsed": false
   },
   "outputs": [],
   "source": [
    "import csv, scipy, scipy.stats, collections, itertools\n",
    "import matplotlib.pyplot as plt\n",
    "import numpy as np\n",
    "\n",
    "%matplotlib inline"
   ]
  },
  {
   "cell_type": "markdown",
   "metadata": {},
   "source": [
    "## The data set\n",
    "\n",
    "\n",
    "The data set contains census information. Our task is to predict whether an indivual earns more than some amount.\n",
    "\n",
    "Please download the following data:\n",
    "* https://archive.ics.uci.edu/ml/machine-learning-databases/adult/adult.data\n",
    "\n",
    "Read and preprocess the data."
   ]
  },
  {
   "cell_type": "code",
   "execution_count": 2,
   "metadata": {
    "collapsed": false
   },
   "outputs": [
    {
     "name": "stdout",
     "output_type": "stream",
     "text": [
      "1 \t age\n",
      "9 \t workclass\n",
      "1 \t fnlwgt\n",
      "16 \t education\n",
      "1 \t education_num\n",
      "7 \t marital_status\n",
      "15 \t occupation\n",
      "6 \t relationship\n",
      "5 \t race\n",
      "1 \t sex\n",
      "1 \t capital_gain\n",
      "1 \t capital_loss\n",
      "1 \t hours_per_week\n",
      "42 \t native_country\n"
     ]
    }
   ],
   "source": [
    "raw_data = np.genfromtxt(\"adult.data\", dtype=str, delimiter=',', autostrip=True)\n",
    "\n",
    "# targets\n",
    "target = \">50K\"\n",
    "target_column = raw_data[:,-1]\n",
    "Y = (target_column == target).reshape(-1,1)\n",
    "assert any(Y) and any(~Y), set(target_column)\n",
    "\n",
    "features = [\n",
    "    'age', 'workclass', 'fnlwgt','education', 'education_num', 'marital_status', \n",
    "    'occupation', 'relationship', 'race', 'sex', 'capital_gain', 'capital_loss', \n",
    "    'hours_per_week', 'native_country'\n",
    "]\n",
    "\n",
    "raw_features = raw_data[:,:-1] # drop the target\n",
    "assert raw_features.shape[1] == len(features)\n",
    "\n",
    "\n",
    "def preprocess_continuous(column):\n",
    "    # convert continuous variables stored as strings to binary by comparing with the median\n",
    "    float_column = column.astype(float)\n",
    "    return (float_column > np.median(float_column)).astype(float).reshape(-1,1)\n",
    "\n",
    "\n",
    "def preprocess_categorical(column):\n",
    "    # convert categorical variables to indicator vectors\n",
    "    values = sorted(set(column))\n",
    "    if len(values) == 2:\n",
    "        values = values[:1]\n",
    "    return np.hstack([column.reshape(-1,1)==v for v in values]).astype(float)\n",
    "\n",
    "\n",
    "preprocessor = collections.defaultdict(lambda: preprocess_categorical)\n",
    "preprocessor.update(dict(\n",
    "    age=preprocess_continuous, \n",
    "    fnlwgt=preprocess_continuous, \n",
    "    education_num=preprocess_continuous,\n",
    "    capital_gain=preprocess_continuous, \n",
    "    capital_loss=preprocess_continuous, \n",
    "    hours_per_week=preprocess_continuous,\n",
    "))\n",
    "\n",
    "# apply appropriate preprocessor to each column of raw_features\n",
    "X_list = [preprocessor[feature](raw_features[:,features.index(feature)]) for feature in features]\n",
    "for feature, X in zip(features, X_list):\n",
    "    assert X.shape[0] == raw_features.shape[0]\n",
    "    print(X.shape[1], '\\t', feature)\n",
    "    \n",
    "make_feature_names = lambda feature, dimension: ['%s_%.2i' % (feature, i) for i in range(dimension)]\n",
    "binary_feature_names_list = [make_feature_names(feature, X.shape[1]) for feature, X in zip(features, X_list)]\n",
    "binary_feature_names = list(itertools.chain(*binary_feature_names_list))\n",
    "\n",
    "X = np.hstack(X_list)\n",
    "assert set(X.flatten()) == {0.0, 1.0}\n",
    "assert len(binary_feature_names) == X.shape[1]"
   ]
  },
  {
   "cell_type": "markdown",
   "metadata": {},
   "source": [
    "Plot the data."
   ]
  },
  {
   "cell_type": "code",
   "execution_count": 3,
   "metadata": {
    "collapsed": false
   },
   "outputs": [
    {
     "name": "stdout",
     "output_type": "stream",
     "text": [
      "[[False]\n",
      " [False]\n",
      " [False]\n",
      " [False]\n",
      " [False]\n",
      " [False]\n",
      " [False]\n",
      " [ True]\n",
      " [ True]\n",
      " [ True]]\n"
     ]
    }
   ],
   "source": [
    "print(Y[:10])"
   ]
  },
  {
   "cell_type": "code",
   "execution_count": 4,
   "metadata": {
    "collapsed": false,
    "scrolled": true
   },
   "outputs": [
    {
     "name": "stdout",
     "output_type": "stream",
     "text": [
      "\n",
      "X.shape \t (32561, 107)\n",
      "Y.shape \t (32561, 1)\n",
      "\n",
      "mean(Y) 0.240809557446\n",
      "(1200, 107)\n",
      "(1200, 1)\n",
      "1\n"
     ]
    },
    {
     "data": {
      "image/png": "[encoded data removed]",
      "text/plain": [
       "<matplotlib.figure.Figure at 0x10e358f60>"
      ]
     },
     "metadata": {},
     "output_type": "display_data"
    }
   ],
   "source": [
    "print('')\n",
    "print('X.shape', '\\t', X.shape)\n",
    "print('Y.shape', '\\t', Y.shape)\n",
    "print()\n",
    "print('mean(Y)', np.mean(Y))\n",
    "\n",
    "figure = lambda : plt.figure(figsize=(16,5))\n",
    "figure()\n",
    "plt.imshow(np.hstack((X,Y)))\n",
    "plt.axis('auto')\n",
    "plt.ylabel('data index');\n",
    "plt.gca().set_xticks(list(range(X.shape[1]+1)))\n",
    "plt.gca().set_xticklabels(binary_feature_names+['y'], rotation='vertical')\n",
    "\n",
    "ntrain = 1200\n",
    "ishuffle = np.arange(X.shape[0])\n",
    "np.random.seed(0)\n",
    "np.random.shuffle(ishuffle)\n",
    "itrain = ishuffle[slice(0,ntrain)]\n",
    "itest = ishuffle[slice(ntrain,None)]\n",
    "X_train, Y_train = X[itrain,:], Y[itrain,:]\n",
    "X_test, Y_test = X[itest,:], Y[itest,:]\n",
    "print(X_train.shape)\n",
    "print(Y_train.shape)\n",
    "print(True * 1)"
   ]
  },
  {
   "cell_type": "markdown",
   "metadata": {},
   "source": [
    "## (3 points) 1A: Naive Bayes: Maximum Likelihood (m.l.)\n",
    "Assume we have dataset $\\mathcal{D}=\\left\\{(\\mathbf{x}_i,y_i\\right)\\}_{i=1,2,\\ldots,n}$ where $\\mathbf{x}_i\\in\\{0,1\\}^d$, $y_i\\in\\{0,1\\}$, $n$ is the number of data points and $d$ the number of features.\n",
    "1. State the independence assumption of the naive Bayes classifier.\n",
    "- Appropriately assume Bernoulli random variables. Letting $p(x_j=1|y=k) = \\rho_{j,k}$ for $k=0,1$ and $p(y=1)=\\mu$, derive the maximum likelihood $\\rho_{j,k}$ and $\\mu$ (that is, the parameters which maximise the likelihood).\n",
    "- Implement a function which computes these maximum likelihood parameters, and call it on ```X_train, Y_train```.\n",
    "- Plot the $\\rho_{j,k}$ (vertical) vs. $j$ (horizontal) using ```plt.plot``` with ```marker='.'```, labeling appropriately.\n",
    "- Print the number of $\\rho_{j,k}$ which are zero.\n",
    "- Explain the problems which zero- (or one-) valued $\\rho_{j,k}$ can lead to."
   ]
  },
  {
   "cell_type": "markdown",
   "metadata": {},
   "source": [
    "### <span style=\"color:blue\">Answer</span>\n",
    "1. $p(x_i, x_{i+1}, x_{i+2},..., x_{n}| y_k) = \\displaystyle \\prod_{i=1}^{n} p(x_i|y_k)$\n"
   ]
  },
  {
   "cell_type": "markdown",
   "metadata": {},
   "source": [
    "2.\n",
    "$p(x_j=1 | y=k) = \\rho_{j,k}$ , $p(x_j=0 | y=k) = 1 - \\rho_{j,k}$\n",
    "<br/>\n",
    "<br/>\n",
    "$p(y=1) = \\mu$ , $p(y=0) = 1 - \\mu$\n",
    "<br/>\n",
    "<br/>\n",
    "$p(\\mathbf{Y} | \\mathbf{X}) \\propto p(\\mathbf{X} | \\mathbf{Y})p(\\mathbf{Y}) = \\displaystyle \\prod_{i=1}^{n} p(\\mathbf{x_i} | \\mathbf{y_i})p(\\mathbf{y_i})$\n",
    "\n",
    "\\begin{equation}\n",
    "\\begin{split}\n",
    "L(\\rho, \\mu) = p(\\mathbf{X} | \\mathbf{Y})p(\\mathbf{Y})\n",
    "  &=\n",
    "  \\displaystyle \\prod_{i=1}^{n} p(\\mathbf{x_i} | \\mathbf{y_i})p(\\mathbf{y_i})\n",
    "  \\\\&=\n",
    "  \\displaystyle \\prod_{i=1}^{n} p(y_i = 1)^{y_i}p(y_i=0)^{1-y_i} \\prod_{j=1}^{d} p(x_j=1 | y_i=k)^{x_j^{(i)}} p(x_j=0 | y_i=k)^{1-x_j^{(i)}}\n",
    "  \\\\&=\n",
    "  \\displaystyle \\prod_{i=1}^{n} \\mu^{y_i}(1-\\mu)^{1-{y_i}} \\prod_{j=1}^{d} \\rho_{j,k}^{x_j^{(i)}} (1-\\rho_{j,k})^{1-x_j^{(i)}}\n",
    "\\end{split}\n",
    "\\end{equation}\n",
    "\\begin{equation}\n",
    "\\begin{split}\n",
    "E(\\rho, \\mu) = -\\ln L(\\rho, \\mu)\n",
    "  &=\n",
    "  \\displaystyle -(\\sum_{i=1}^{n} {y_i} \\ln \\mu + (1-{y_i})\\ln(1-\\mu) + \\sum_{j=1}^{d} {x_j^{(i)}}\\ln\\rho_{j,k} + ({1-x_j^{(i)}})\\ln(1-\\rho_{j,k}))\n",
    "\\end{split}\n",
    "\\end{equation}\n",
    "\\begin{equation}\n",
    "\\begin{split}\n",
    "\\frac{\\partial E(\\rho, \\mu)}{\\partial \\rho_{j,k}}\n",
    "  &=\n",
    "  \\displaystyle \\sum_{i=1}^{n} \\sum_{j=1}^{d} \\frac{{1-x_j^{(i)}}}{1-\\rho_{j,k}} - \\frac{{x_j^{(i)}}}{\\rho_{j,k}}\n",
    "\\end{split}\n",
    "\\end{equation}\n",
    "Set $\\frac{\\partial E(\\rho, \\mu)}{\\partial \\rho_{j,k}} = 0$\n",
    "$$\\displaystyle \\sum_{i=1}^{n} \\sum_{j=1}^{d} \\rho_{j,k}(1-x_j^{(i)}) - x_j^{(i)}(1-\\rho_{j,k}) = 0$$\n",
    "\n",
    "$$\\displaystyle \\sum_{i=1}^{n} \\sum_{j=1}^{d} \\rho_{j,k} - x_j^{(i)} = 0$$\n",
    "\n",
    "$$\\displaystyle \\sum_{i=1}^{n} \\sum_{j=1}^{d} \\rho_{j,k} = \\sum_{i=1}^{n} \\sum_{j=1}^{d} x_j^{(i)}$$\n",
    "\n",
    "$$\\displaystyle \\sum_{i=1}^{n} \\sum_{j=1}^{d} \\sum_{k=0}^{0,1} \\rho_{j,k} = \\sum_{i=1}^{n} \\sum_{j=1}^{d} \\sum_{k=0}^{0,1} x_j^{(i)} \\text{ (where } y_i = k)$$\n",
    "\n",
    "$$\\rho_{j,k} = \\frac{count(x_j=1) \\text{ where } y_i = k}{count(y_i = k)}$$\n",
    "\n",
    "\\begin{equation}\n",
    "\\begin{split}\n",
    "\\frac{\\partial E(\\rho, \\mu)}{\\partial \\mu}\n",
    "  &=\n",
    "  \\displaystyle \\sum_{i=1}^{n} \\frac{1-y_i}{1-\\mu} - \\frac{y_i}{\\mu} = 0\n",
    "\\end{split}\n",
    "\\end{equation}\n",
    "\n",
    "Set $\\frac{\\partial E(\\rho, \\mu)}{\\partial \\mu} = 0$\n",
    "\n",
    "$$\\displaystyle \\sum_{i=1}^{n} \\mu(1-y_i) - y_i(1-\\mu) = 0$$\n",
    "\n",
    "$$\\displaystyle \\sum_{i=1}^{n} \\mu - y_i = 0$$\n",
    "\n",
    "$$\\mu = \\displaystyle \\frac{1}{n}\\sum_{i=1}^{n} y_i= \\frac{count(y=1)}{n}$$"
   ]
  },
  {
   "cell_type": "code",
   "execution_count": null,
   "metadata": {
    "collapsed": true
   },
   "outputs": [],
   "source": []
  },
  {
   "cell_type": "code",
   "execution_count": 5,
   "metadata": {
    "collapsed": false
   },
   "outputs": [
    {
     "name": "stdout",
     "output_type": "stream",
     "text": [
      "0.265\n"
     ]
    },
    {
     "data": {
      "image/png": "[encoded data removed]",
      "text/plain": [
       "<matplotlib.figure.Figure at 0x10fecec88>"
      ]
     },
     "metadata": {},
     "output_type": "display_data"
    },
    {
     "name": "stdout",
     "output_type": "stream",
     "text": [
      "the number of ρj,k which are zero is 51\n"
     ]
    }
   ],
   "source": [
    "def cal_mu(y):\n",
    "    #count the number of datapoints where y = 1\n",
    "    return y.mean()\n",
    "def cal_rho_ml(X, y):\n",
    "    # make empty arrays to store rho values\n",
    "    rho_true = np.zeros(X.shape[1])\n",
    "    rho_false = np.zeros(X.shape[1])\n",
    "    \n",
    "    # count the number of datapoints where y = 1 and y = 0 seperately\n",
    "    num_true = y.sum()\n",
    "    num_false = y.shape[0] - num_true\n",
    "    \n",
    "    # get the indices of datapoints where y = 1 an y = 0 seperately\n",
    "    y_true = np.where(Y_train==True)[0]\n",
    "    y_false = np.where(Y_train==False)[0]\n",
    "    \n",
    "    #get features of datapoints in each class(y=1 and y=0) according to the indices I got from previous step\n",
    "    X_true = X[y_true]\n",
    "    X_false = X[y_false]\n",
    "    \n",
    "    #sum up each class's X matrix's column and divide it by the number of datapoints in each class\n",
    "    rho_true = np.sum(X_true, axis=0)\n",
    "    rho_true = rho_true/num_true\n",
    "    rho_false = np.sum(X_false, axis=0)\n",
    "    rho_false = rho_false/num_false\n",
    "    return np.vstack((rho_false, rho_true))\n",
    "\n",
    "print(cal_mu(Y_train))\n",
    "rho_jk_ml = cal_rho_ml(X_train, Y_train)\n",
    "rho_true_ml = rho_jk_ml[0]\n",
    "rho_false_ml = rho_jk_ml[1]\n",
    "\n",
    "x = np.arange(0,107)\n",
    "plt.plot(x, rho_true_ml, marker=\".\", c=\"b\")\n",
    "plt.plot(x, rho_false_ml, marker=\".\", c=\"r\")\n",
    "plt.axis([0, 107, 0, 1])\n",
    "plt.show()\n",
    "\n",
    "a = np.where(rho_true_ml==0)[0]\n",
    "b = np.where(rho_false_ml==0)[0]\n",
    "print(\"the number of ρj,k which are zero is \" + str(a.shape[0] + b.shape[0]))"
   ]
  },
  {
   "cell_type": "markdown",
   "metadata": {},
   "source": [
    "6.Since in the likelihood funtion all values are multiplied , if there is a variable which is zero, result will be zero."
   ]
  },
  {
   "cell_type": "markdown",
   "metadata": {},
   "source": [
    "## (3 points) 1B: Naive Bayes: Maximum a Posteriori (m.a.p.)\n",
    "Let $\\rho_{j,k}\\sim\\text{Beta}(\\beta)$, with p.d.f. $f_{\\rho_{j,k}}(\\rho)=\\frac{\\rho^{\\beta-1}(1-\\rho)^{\\beta-1}}{Z(\\beta)}$ where $Z$ is a normalisation factor. Assume a uniform prior for $\\mu$.\n",
    "1. Derive the maximum a posteriori $\\rho_{j,k}$ and $\\mu$ given the above prior.\n",
    "- Implement a function which computes these maximum a posteriori parameters.\n",
    "- Verify with ```assert np.allclose()``` that the m.a.p. solution with $\\beta=1$ is identical to the m.l. solution. \n",
    "- Call your function on ```X_train, Y_train``` with $\\beta=10,100,1000$. For each case scatter plot the m.a.p. parameters vs. the m.l. parameters, all on one axis, colored and labelled appropriately.\n",
    "- Give one example of the role of $\\beta$ as evidenced by the plot."
   ]
  },
  {
   "cell_type": "markdown",
   "metadata": {},
   "source": [
    "### <span style=\"color:blue\">Answer</span>\n",
    "$p(x_j=1 | y=k) = \\rho_{j,k}$ , $p(x_j=0 | y=k) = 1 - \\rho_{j,k}$\n",
    "<br/>\n",
    "<br/>\n",
    "$p(y=1) = \\mu$ , $p(y=0) = 1 - \\mu$\n",
    "<br/>\n",
    "<br/>\n",
    "\n",
    "\\begin{equation}\n",
    "\\begin{split}\n",
    "L(\\rho, \\mu) = p(Y|\\rho,\\mu) p(\\rho,\\mu)\n",
    "  &=\n",
    "  \\displaystyle \\prod_{i=1}^{n} p(\\mathbf{x_i} | \\mathbf{y_i})p(\\mathbf{y_i}) p(\\rho)p(\\mu)\n",
    "  \\\\&=\n",
    "  \\displaystyle \\prod_{i=1}^{n} p(y_i = 1)^{y_i}p(y_i=0)^{1-y_i} \\prod_{j=1}^{d} p(x_j=1 | y_i=k)^{x_j^{(i)}} p(x_j=0 | y_i=k)^{1-x_j^{(i)}} \\frac{\\rho^{\\beta-1}(1-\\rho)^{\\beta-1}}{Z(\\beta)} \\frac{1}{\\mu}\n",
    "  \\\\&=\n",
    "  \\displaystyle \\prod_{i=1}^{n} \\mu^{y_i}(1-\\mu)^{1-{y_i}} \\prod_{j=1}^{d} \\rho_{j,k}^{x_j^{(i)}} (1-\\rho_{j,k})^{1-x_j^{(i)}} \\frac{\\rho^{\\beta-1}(1-\\rho)^{\\beta-1}}{Z(\\beta)} \\frac{1}{\\mu}\n",
    "\\end{split}\n",
    "\\end{equation}\n",
    "\\begin{equation}\n",
    "\\begin{split}\n",
    "E(\\rho, \\mu) = -\\ln L(\\rho, \\mu)\n",
    "  &=\n",
    "  \\displaystyle -(\\sum_{i=1}^{n} {y_i} \\ln \\mu + (1-{y_i})\\ln(1-\\mu) + \\sum_{j=1}^{d} {x_j^{(i)}}\\ln\\rho_{j,k} + ({1-x_j^{(i)}})\\ln(1-\\rho_{j,k}) + \\ln \\frac{\\rho^{\\beta-1}(1-\\rho)^{\\beta-1}}{Z(\\beta)} - \\ln\\mu)\n",
    "  \\\\&=\n",
    "  \\displaystyle -(\\sum_{i=1}^{n} {y_i} \\ln \\mu + (1-{y_i})\\ln(1-\\mu) + \\sum_{j=1}^{d} {x_j^{(i)}}\\ln\\rho_{j,k} + ({1-x_j^{(i)}})\\ln(1-\\rho_{j,k}) + (\\beta-1)\\ln\\rho + (\\beta-1)\\ln(1-\\rho) - \\ln(Z(\\beta)) - \\ln\\mu)\n",
    "\\end{split}\n",
    "\\end{equation}\n",
    "\\begin{equation}\n",
    "\\begin{split}\n",
    "\\frac{\\partial E(\\rho, \\mu)}{\\partial \\rho_{j,k}}\n",
    "  &=\n",
    "  \\displaystyle \\sum_{i=1}^{n} (\\sum_{j=1}^{d} \\frac{{1-x_j^{(i)}}}{1-\\rho_{j,k}} - \\frac{{x_j^{(i)}}}{\\rho_{j,k}} ) - \\frac{\\beta-1}{\\rho} + \\frac{\\beta-1}{1-\\rho}\n",
    "\\end{split}\n",
    "\\end{equation}\n",
    "Set $\\frac{\\partial E(\\rho, \\mu)}{\\partial \\rho_{j,k}} = 0$\n",
    "\n",
    "$$\\displaystyle \\sum_{i=1}^{n}( \\sum_{j=1}^{d} \\rho_{j,k}(1-x_j^{(i)}) - x_j^{(i)}(1-\\rho_{j,k})) - (\\beta-1)(1-\\rho) - (\\beta-1)\\rho = 0$$\n",
    "$$\\displaystyle \\sum_{i=1}^{n}( \\sum_{j=1}^{d} (x_j^{(i)} - \\rho_{j,k})) + 2\\rho(\\beta -1) - \\beta + 1 = 0$$\n",
    "\n",
    "\n",
    "\n",
    "$$\\rho_{j,k} = \\frac{count(x_j=1,y_i = k) + \\beta - 1}{count(y_i = k) + 2(\\beta -1)}$$\n",
    "\n",
    "\\begin{equation}\n",
    "\\begin{split}\n",
    "\\frac{\\partial E(\\rho, \\mu)}{\\partial \\mu}\n",
    "  &=\n",
    "  \\displaystyle \\sum_{i=1}^{n} \\frac{1-y_i}{1-\\mu} - \\frac{y_i}{\\mu} + \\frac{1}{\\mu} = 0\n",
    "  \\\\&=\n",
    "  \\displaystyle \\sum_{i=1}^{n}( \\mu(1-y_i) - y_i(1-\\mu)) + (1-\\mu)\n",
    "  \\\\&=\n",
    "  \\displaystyle \\sum_{i=1}^{n}( \\mu - y_i) + 1- \\mu = 0\n",
    "\\end{split}\n",
    "\\end{equation}\n",
    "\n",
    "Set $\\frac{\\partial E(\\rho, \\mu)}{\\partial \\mu} = 0$\n",
    "\n",
    "$$\\displaystyle \\sum_{i=1}^{n}( \\mu(1-y_i) - y_i(1-\\mu)) + (1-\\mu) = 0$$\n",
    "\n",
    "$$\\displaystyle \\sum_{i=1}^{n}( \\mu - y_i) + 1- \\mu = 0$$\n",
    "\n",
    "$$\\mu = \\frac{count(y=1) - 1}{n - 1}$$"
   ]
  },
  {
   "cell_type": "code",
   "execution_count": null,
   "metadata": {
    "collapsed": true
   },
   "outputs": [],
   "source": []
  },
  {
   "cell_type": "code",
   "execution_count": 6,
   "metadata": {
    "collapsed": false
   },
   "outputs": [
    {
     "ename": "SyntaxError",
     "evalue": "keyword can't be an expression (<ipython-input-6-7b8d0a179f3b>, line 53)",
     "output_type": "error",
     "traceback": [
      "\u001b[0;36m  File \u001b[0;32m\"<ipython-input-6-7b8d0a179f3b>\"\u001b[0;36m, line \u001b[0;32m53\u001b[0m\n\u001b[0;31m    plt.plot(x, rho_jk[1], marker=\".\", y.c=\"yellow\", label=\"rho_false_map\")\u001b[0m\n\u001b[0m                                      ^\u001b[0m\n\u001b[0;31mSyntaxError\u001b[0m\u001b[0;31m:\u001b[0m keyword can't be an expression\n"
     ]
    }
   ],
   "source": [
    "def cal_mu_map(y):\n",
    "    #count the number of datapoints where y = 1\n",
    "    return (y.sum() - 1) / (y.shape[0] - 1)\n",
    "\n",
    "def cal_rho_map(X, y, beta):\n",
    "    # do same thing as the previous question\n",
    "    rho_true = np.zeros(X.shape[1])\n",
    "    rho_false = np.zeros(X.shape[1])\n",
    "    num_true = y.sum()\n",
    "    num_false = y.shape[0] - num_true\n",
    "    y_true = np.where(Y_train==True)[0]\n",
    "    y_false = np.where(Y_train==False)[0]\n",
    "    X_true = X[y_true]\n",
    "    X_false = X[y_false]\n",
    "    \n",
    "    # count the number of datapoints where x_j = 1 and calculate rho according to the formula I got from q1\n",
    "    rho_true = np.sum(X_true, axis=0)\n",
    "    rho_true = (rho_true + beta - 1) / (num_true + 2*(beta-1))\n",
    "    rho_false = np.sum(X_false, axis=0)\n",
    "    rho_false = (rho_false + beta - 1) / (num_false + 2*(beta-1))\n",
    "    return np.vstack((rho_false, rho_true))\n",
    "\n",
    "rho_jk_map = cal_rho_map(X_train, Y_train, 1)\n",
    "rho_true = rho_jk_map[0]\n",
    "rho_false = rho_jk_map[1]\n",
    "\n",
    "assert np.allclose(cal_rho_map(X_train, Y_train, 1), rho_jk_ml)\n",
    "\n",
    "x = np.arange(0,107)\n",
    "plt.figure()\n",
    "plt.plot(x, rho_true, marker=\".\", c=\"blue\", label=\"rho_true_ml\")\n",
    "plt.plot(x, rho_false, marker=\".\", c=\"red\", label=\"rho_false_ml\")\n",
    "rho_jk = cal_rho_map(X_train, Y_train, 10)\n",
    "plt.plot(x, rho_jk[0], marker=\".\", c=\"green\", label=\"rho_true_map\")\n",
    "plt.plot(x, rho_jk[1], marker=\".\", c=\"yellow\", label=\"rho_false_map\")\n",
    "plt.axis([0, 107, 0, 1])\n",
    "plt.legend()\n",
    "\n",
    "plt.figure()\n",
    "plt.plot(x, rho_true, marker=\".\", c=\"blue\", label=\"rho_true_ml\")\n",
    "plt.plot(x, rho_false, marker=\".\", c=\"red\", label=\"rho_false_ml\")\n",
    "rho_jk = cal_rho_map(X_train, Y_train, 100)\n",
    "plt.plot(x, rho_jk[0], marker=\".\", c=\"green\", label=\"rho_true_map\")\n",
    "plt.plot(x, rho_jk[1], marker=\".\", c=\"yellow\", label=\"rho_false_map\")\n",
    "plt.axis([0, 107, 0, 1])\n",
    "plt.legend()\n",
    "\n",
    "plt.figure()\n",
    "plt.plot(x, rho_true, marker=\".\", c=\"blue\", label=\"rho_true_ml\")\n",
    "plt.plot(x, rho_false, marker=\".\", c=\"red\", label=\"rho_false_ml\")\n",
    "rho_jk = cal_rho_map(X_train, Y_train, 1000)\n",
    "plt.plot(x, rho_jk[0], marker=\".\", c=\"green\", label=\"rho_true_map\")\n",
    "plt.plot(x, rho_jk[1], marker=\".\", y.c=\"yellow\", label=\"rho_false_map\")\n",
    "plt.axis([0, 107, 0, 1])\n",
    "plt.legend()"
   ]
  },
  {
   "cell_type": "markdown",
   "metadata": {},
   "source": [
    "5. $\\beta$ makes the rho values which are 0 without $\\beta$ to some values between 0 and 1. So by adding $\\beta$ we can avoid the problem of factorizing feature which value is 0. Even if a datapoint includes features which are zero, the result will not be 0 when we factorize the feature values."
   ]
  },
  {
   "cell_type": "markdown",
   "metadata": {},
   "source": [
    "## (2 points) 1C: Naive Bayes: Prediction\n",
    "1. Derive the log predictive distribution $\\log p(y=1|\\mathbf{x},\\{\\rho_{j,k}\\},\\mu)$. Where appropriate, implement this by adding log probabilities instead of multiplying probabilities. Use ```np.logaddexp``` to add probabilities stored in log space.\n",
    "- Call the above funcion on ```X_test``` using m.a.p. parameters computed with $\\beta=2$.\n",
    "- Plot a histogram of the probabilities (use ```np.exp``` on the log probabilities) using ```plt.hist``` with ```normed=True,histtype='step',label='your_label'```. Do this for the predictive test probabilities corresponding to ```Y_test==1``` and ```Y_test==0```, puting the histograms on the same plot, labeling appropriately."
   ]
  },
  {
   "cell_type": "markdown",
   "metadata": {},
   "source": [
    "### <span style=\"color:blue\">Answer</span>\n",
    "\\begin{equation}\n",
    "\\begin{split}\n",
    "p(y=1|\\mathbf{x},\\{\\rho_{j,k}\\},\\mu)\n",
    "  &=\n",
    "  \\frac{p(y=1, \\mathbf{x},\\{\\rho_{j,k}\\},\\mu)}{p(\\mathbf{x},\\{\\rho_{j,k}\\},\\mu)}\n",
    "  \\\\&=\n",
    "  \\frac{p(\\mathbf{x},\\{\\rho_{j,k}\\},\\mu|y=1)p(y=1)}{p(\\mathbf{x},\\{\\rho_{j,k}\\},\\mu|y=0)p(y=0) + p(\\mathbf{x},\\{\\rho_{j,k}\\},\\mu|y=1)p(y=1)}\n",
    "  \\\\&=\n",
    "  \\frac{p(\\mathbf{x}|y=1)p(\\{\\rho_{j,k}\\}|y=1)p(\\mu|y=1)p(y=1)}{p(\\mathbf{x}|y=0)p(\\{\\rho_{j,k}\\}|y=0)p(\\mu|y=0)p(y=0) + p(\\mathbf{x}|y=1)p(\\{\\rho_{j,k}\\}|y=1)p(\\mu|y=1)p(y=1)}\n",
    "  \\\\&=\n",
    "  \\frac{p(\\mathbf{x}|y=1)p(y=1)}{p(\\mathbf{x}|y=0)p(y=0) + p(\\mathbf{x}|y=1)p(y=1)}\n",
    "  \\\\&=\n",
    "  \\frac{\\displaystyle \\mu  \\prod_{j=1}^{d} p(x_j | y=1)}{\\displaystyle (1-\\mu)  \\prod_{j=1}^{d} p(x_j | y=0) + \\mu  \\prod_{j=1}^{d} p(x_j | y=1)}\n",
    "  \\\\&=\n",
    "  \\frac{\\displaystyle \\mu  \\prod_{j=1}^{d} \\rho_{j,1}^{x_j}(1 - \\rho_{j,1})^{1-x_j}}{\\displaystyle (1-\\mu)  \\prod_{j=1}^{d} \\rho_{j,0}^{x_j}(1 - \\rho_{j,0})^{1-x_j} + \\mu  \\prod_{j=1}^{d} \\rho_{j,1}^{x_j}(1 - \\rho_{j,1})^{1-x_j}}\n",
    "\\end{split}\n",
    "\\end{equation}\n",
    "\n",
    "\\begin{equation}\n",
    "\\begin{split}\n",
    "\\log p(y=1|\\mathbf{x},\\{\\rho_{j,k}\\},\\mu) \n",
    "   &= \\displaystyle \\log \\mu + \\sum_{j=1}^{d}( x_j \\log \\rho_{j,1} + (1-x_j) \\log (1-\\rho_{j,1})) \n",
    "  \\\\&-\n",
    "  \\log\\{\\log(1-\\mu) + \\sum_{j=1}^{d}( x_j \\log \\rho_{j,0} + (1-x_j) \\log (1-\\rho_{j,0})) + \\log\\mu + \\sum_{j=1}^{d}( x_j \\log \\rho_{j,1} + (1-x_j) \\log (1-\\rho_{j,1}))\\}\n",
    "\\end{split}\n",
    "\\end{equation}"
   ]
  },
  {
   "cell_type": "code",
   "execution_count": null,
   "metadata": {
    "collapsed": false
   },
   "outputs": [],
   "source": [
    "def log_predictive_distribution(x, rho, mu):\n",
    "    # get the indices of features where x_j=1 and x_j=0 seperately\n",
    "    feature_true = np.where(x==1)[0]\n",
    "    feature_false = np.where(x==0)[0]\n",
    "    \n",
    "    #get the rho value for each index\n",
    "    rho_true = rho[1]\n",
    "    rho_false = rho[0]\n",
    "    \n",
    "    #calculate the formula which I derived from q1\n",
    "    x1 = np.log(mu) + (np.log(rho_true[feature_true]).sum() + np.log(1-rho_true[feature_false]).sum())\n",
    "    x2 = np.log((1-mu)) + (np.log(rho_false[feature_true]).sum() + np.log(1-rho_false[feature_false]).sum())\n",
    "\n",
    "#     return np.log(mu) + (np.log(rho_true[feature_true]).sum() + np.log(1-rho_true[feature_false]).sum()) - np.logaddexp(x1, x2)\n",
    "    return x1 - np.logaddexp(x1, x2)\n",
    "\n",
    "rho = cal_rho_map(X_train, Y_train, 2)\n",
    "\n",
    "y_true = np.where(Y_test==True)[0]\n",
    "y_false = np.where(Y_test==False)[0]\n",
    "\n",
    "X_true = X_test[y_true]\n",
    "X_false = X_test[y_false]\n",
    "\n",
    "probabilities_y_is_1 = []\n",
    "probabilities_y_is_0 = []\n",
    "for i in range(X_true.shape[0]):\n",
    "    x = X_true[i]\n",
    "    p = np.exp(log_predictive_distribution(x, rho, cal_mu_map(Y_train)))\n",
    "    probabilities_y_is_1.append(p)\n",
    "\n",
    "for i in range(X_false.shape[0]):\n",
    "    x = X_false[i]\n",
    "    p = np.exp(log_predictive_distribution(x, rho, cal_mu_map(Y_train)))\n",
    "    probabilities_y_is_0.append(p)\n",
    "\n",
    "probabilities_y_is_1 = np.asarray(probabilities_y_is_1)\n",
    "probabilities_y_is_0 = np.asarray(probabilities_y_is_0)\n",
    "\n",
    "plt.figure()\n",
    "plt.hist(probabilities_y_is_1, color=\"blue\", normed=True, histtype='step', label='Y_test==1')\n",
    "plt.hist(probabilities_y_is_0, color=\"red\", normed=True, histtype='step', label='Y_test==0')\n",
    "plt.legend()\n",
    "\n",
    "print(np.exp(log_predictive_distribution(X_train[0], rho, cal_mu_map(Y_train))))"
   ]
  },
  {
   "cell_type": "markdown",
   "metadata": {},
   "source": [
    "## (2 points) 1D: Naive Bayes: Evaluation\n",
    "1. Write a function ```evaluate``` which takes data ```X,Y``` and model parameters $\\rho_{j,k}$ and $\\mu$, and returns a dict with keys ```mean_logp_true``` (for the mean predictive log probability of the ground truth labels ```Y``` given the data matrix ```X``` and ```percent_correct``` (for the percent correctly classified, assuming we classify each datum into the class with maximum predictive probability).\n",
    "- Write a function ```cross_validate(beta, nfolds, X, Y)``` which performs cross validation with ```nfolds``` folds, for hyper parameter $\\beta$. For each split, call your ```evaluate``` function, and return a ```dict``` with averaged results for each evaluation metric. You can make use of our ```xval_inds``` function.\n",
    "- For $\\beta$ in ```np.logspace(np.log10(2),2,32)``` compute the evaluation metrics on the test set, ```X_test, Y_test```, as well as the cross-validated estimates. Make one plot for each metric, showing both results on each (for a total of four curves). Label appropriately."
   ]
  },
  {
   "cell_type": "code",
   "execution_count": null,
   "metadata": {
    "collapsed": false
   },
   "outputs": [],
   "source": [
    "def xval_inds(ndata, nfolds):\n",
    "    # return a list of (trainind, testind) pairs for ndata data points and nfolds xval folds\n",
    "    assert ndata % nfolds == 0\n",
    "    nchunk = int(ndata / nfolds)\n",
    "    itest = [list(range(i*nchunk,(i+1)*nchunk)) for i in range(int(nfolds))]\n",
    "    itrain = [sorted(set(range(ndata)).difference(set(i))) for i in itest]\n",
    "    return list(zip(itrain, itest))\n"
   ]
  },
  {
   "cell_type": "markdown",
   "metadata": {},
   "source": [
    "### <span style=\"color:blue\">Answer</span>"
   ]
  },
  {
   "cell_type": "code",
   "execution_count": null,
   "metadata": {
    "collapsed": false
   },
   "outputs": [],
   "source": [
    "def evaluation(X, y , rho, mu):\n",
    "    #prepare empty array to store probabilities for each datapoint\n",
    "    probabilities_true = np.empty(0)\n",
    "    probabilities_false = np.empty(0)\n",
    "    probabilities = np.empty(0)\n",
    "    \n",
    "    #divide the data into True and False one\n",
    "    y_true = np.where(y==True)[0]\n",
    "    y_false = np.where(y==False)[0]\n",
    "    X_true = X[y_true]\n",
    "    X_false = X[y_false]\n",
    "    result = dict()\n",
    "    num = 0\n",
    "    #for each class get the probabilities and store that and check if the probability is greater than 0.5 and if it is increment the percent_correct and divide it by the number of datapints in the class\n",
    "    for i in range(X_true.shape[0]):\n",
    "        x = X_true[i]\n",
    "        p = np.exp(log_predictive_distribution(x, rho, mu))\n",
    "        probabilities_true = np.append(probabilities_true,p)\n",
    "        probabilities = np.append(probabilities,p)\n",
    "    \n",
    "    #get the number of datapoints that the probability is greater than 0.5\n",
    "    percent_correct = np.where(probabilities_true>0.5)[0].shape[0]\n",
    "\n",
    "    for i in range(X_false.shape[0]):\n",
    "        x = X_false[i]\n",
    "        p = np.exp(log_predictive_distribution(x, rho, mu))\n",
    "        probabilities_false = np.append(probabilities_false,1-p)\n",
    "        probabilities = np.append(probabilities,1-p)\n",
    "    #calculate the mean value of all probabilities\n",
    "    result[\"mean_logp_true\"] = probabilities.mean()\n",
    "    #get the number of datapoints that the probability is greater than 0.5\n",
    "    percent_correct += np.where(probabilities_false>0.5)[0].shape[0]\n",
    "    # calculate the percent_coorect by dividing the number of datapoints which classified correctly by the number of datapoints\n",
    "    result[\"percent_correct\"] = percent_correct / y.shape[0]\n",
    "    return result\n",
    "\n",
    "# pred_true = evaluation(X_test, Y_test, cal_rho_map(X_train, Y_train, 2), cal_mu_map(Y_train))\n",
    "pred_true = evaluation(X_train, Y_train, cal_rho_map(X_test, Y_test, 2), cal_mu_map(Y_test))\n",
    "print(pred_true)"
   ]
  },
  {
   "cell_type": "code",
   "execution_count": null,
   "metadata": {
    "collapsed": false
   },
   "outputs": [],
   "source": [
    "def cross_validate(beta, nfolds, X, Y):\n",
    "    inds_list = xval_inds(X.shape[0], nfolds)\n",
    "    mean_logp_true_total = np.empty(0)\n",
    "    percent_correct_total = np.empty(0)\n",
    "    output = dict()\n",
    "    \n",
    "    for i in range(nfolds):\n",
    "        x_train = X[inds_list[i][0]]\n",
    "        x_test = X[inds_list[i][1]]\n",
    "        y_train = Y[inds_list[i][0]]\n",
    "        y_test = Y[inds_list[i][1]]\n",
    "        rho = cal_rho_map(x_train, y_train, beta)\n",
    "        mu = cal_mu_map(y_train)\n",
    "        result = evaluation(x_test, y_test, rho, mu)\n",
    "#         print(result)\n",
    "\n",
    "        mean_logp_true = result[\"mean_logp_true\"]\n",
    "        mean_logp_true_total = np.append(mean_logp_true_total, mean_logp_true)\n",
    "\n",
    "        percent_correct = result[\"percent_correct\"]\n",
    "        percent_correct_total = np.append(percent_correct_total, percent_correct)\n",
    "\n",
    "    output[\"mean_logp_true\"] = mean_logp_true_total.mean()\n",
    "    output[\"percent_correct\"] = percent_correct_total.mean()\n",
    "\n",
    "    return output\n",
    "\n",
    "# print(cross_validate(2, 11, X_test, Y_test))\n",
    "print(cross_validate(2, 11, X_train, Y_train))"
   ]
  },
  {
   "cell_type": "code",
   "execution_count": null,
   "metadata": {
    "collapsed": false
   },
   "outputs": [],
   "source": [
    "mean_logp_true_cv = np.empty(0)\n",
    "mean_logp_true_test_eval = np.empty(0)\n",
    "percent_correct_cv = np.empty(0)\n",
    "percent_correct_test_eval = np.empty(0)\n",
    "\n",
    "for beta in np.logspace(np.log10(2),2,32):\n",
    "    result = cross_validate(beta, 11, X_test, Y_test)\n",
    "    mean_logp_true_cv = np.append(mean_logp_true_cv, result[\"mean_logp_true\"])\n",
    "\n",
    "    percent_correct_cv = np.append(percent_correct_cv, result[\"percent_correct\"])\n",
    "\n",
    "    result = evaluation(X_test, Y_test, cal_rho_map(X_train, Y_train, beta), cal_mu_map(Y_train))\n",
    "    mean_logp_true_test_eval = np.append(mean_logp_true_test_eval, result[\"mean_logp_true\"])\n",
    "    percent_correct_test_eval = np.append(percent_correct_test_eval, result[\"percent_correct\"])\n",
    "\n",
    "plt.figure()\n",
    "plt.plot(np.logspace(np.log10(2),2,32), mean_logp_true_cv, color=\"red\", label=\"mean_logp_true_cv\")\n",
    "plt.plot(np.logspace(np.log10(2),2,32), mean_logp_true_test_eval, color=\"blue\", label=\"mean_logp_test_eval\")\n",
    "plt.legend()\n",
    "plt.figure()\n",
    "plt.plot(np.logspace(np.log10(2),2,32), percent_correct_cv, color=\"red\", label=\"percent_correct_cv\")\n",
    "plt.plot(np.logspace(np.log10(2),2,32), percent_correct_test_eval, color=\"blue\", label=\"percent_correct_test_eval\")\n",
    "plt.legend()"
   ]
  },
  {
   "cell_type": "markdown",
   "metadata": {},
   "source": [
    "## (2 points) 1E: Naive Bayes: Discussion\n",
    "1. Explain the shortcomings of our preprocessing of (a) continous variables, and (b) categorical variables. Make note of the assumptions of our model.\n",
    "- Suggest improvements to our data processing pipeline, both in terms of the representation and the model.\n",
    "- Consider the distribution $p(a,b,c)$ where all three variables are binary. How many parameters are needed to specify this distribution (a) in general and (b) if it factorises as $p(a|c)p(b|c)p(c)$?"
   ]
  },
  {
   "cell_type": "markdown",
   "metadata": {},
   "source": [
    "### <span style=\"color:blue\">Answer</span>\n",
    "1. (a)In our preprocessing of continuous varaiables, we are comparing each variable to the median value of the feature of all datapoints. Therefore, the problems are that this preprocessing ignores the distribution of the feature and not dividing the data into 2 groups carefully enough.\n",
    "<br/><br/>\n",
    "(b) We are making as many binary features as the number of the types of variable of the feature. If the feature has two category, this preprocessing makes two binary features, which means we can infer the second feature from the first one. For example a person is male, we can infer that this person is not female. Hence these features are not independent each other. This contradicts with the independent assumption of the Naive Bayse classifier.\n",
    "<br/><br/>\n",
    "2. About preprocessing of continuous variables, we should try to find peaks in the distribution of the feature in the data. If there are peaks, we shoud compare each variable to the values of trougs of the distribution and convert this feature to a multi class feature.\n",
    "<br/><br/>\n",
    "About preprocessing of categorical variables, count the number of classes that each feature can take and if that is 2, do not make 2 new features for it but keep this feature as it is. If there are more than 2 classes, make a multi class feature for this feature instead of making new binary features.\n",
    "<br/><br/>\n",
    "3. (a) In this case we have 3 binary variables. The number of combinations of parameters is $2^3 = 8$. However, you can represent one of the parameters by subtracting the total of the other parameters so you need $8 - 1 = 7$ parameters in genaral<br/><br/>\n",
    "(b) We can represent $p(a|c)$ with two parameters like $p(a|c)$, $1 - p(a|c)$, $p(a|c')$ and $1 - p(a|c)$.so we need 4 parameters for first two conditional probabilities in total. Also we need one more parameter for p(c). Therefore, we need 5 parameters in total."
   ]
  },
  {
   "cell_type": "markdown",
   "metadata": {},
   "source": [
    "## (3 points) 2A: Representation Proof\n",
    "Consider a parametric model governed by the parameter vector $\\mathbf{w}$ together with a dataset of input values $\\mathbf{x}_1,\\ldots,\\mathbf{x}_N$ and a nonlinear feature mapping $\\phi(\\mathbf{x})$. Suppose that the dependence of the error function on $\\mathbf{w}$ takes the form $J(\\mathbf{w}) = f(\\mathbf{w}^\\top \\phi(\\mathbf{x}_1), \\ldots, \\mathbf{w}^\\top \\phi(\\mathbf{x}_N)) + g(\\mathbf{w}^\\top \\mathbf{w})$\n",
    "where $g(\\cdot)$ is a monotonically increasing function. By writing $\\mathbf{w}$ in the form\n",
    "$$\n",
    "\\mathbf{w} = \\sum_{n=1}^N \\alpha_n \\phi(\\mathbf{x}_n) + \\mathbf{w}_\\perp\n",
    "$$\n",
    "show that the value of $\\mathbf{w}$ that minimizes $J(\\mathbf{w})$ takes the form of a linear combination of the basis functions $\\phi(\\mathbf{x}_n)$ for $n = 1, \\ldots, N$."
   ]
  },
  {
   "cell_type": "markdown",
   "metadata": {},
   "source": [
    "### <span style=\"color:blue\">Answer</span>\n",
    "It is given that $\\mathbf{w}$ can be written $$\\mathbf{w} = \\sum_{n=1}^N \\alpha_n \\phi(\\mathbf{x}_n) + \\mathbf{w}_\\perp$$\n",
    "To make it simple, rewrite $\\sum_{n=1}^N \\alpha_n \\phi(\\mathbf{x}_n)$ to $\\mathbf{w_*}$\n",
    "$$\\mathbf{w} = \\mathbf{w_*} + \\mathbf{w}_\\perp$$\n",
    "<br/>\n",
    "$$\\mathbf{w_*}  \\mathbf{w}_\\perp = 0$$\n",
    "<br/>\n",
    "As $w_\\perp$ is orthogonal to the weighted sum of the feature mappings, for an arbitrary n \n",
    "$$\\mathbf{w}_\\perp^\\top \\phi(\\mathbf{x}_n) = 0$$\n",
    "<br/>\n",
    "Therefore, $J(\\mathbf{w})$ can be written\n",
    "<br/>\n",
    "\\begin{equation}\n",
    "\\begin{split}\n",
    "J(\\mathbf{w})\n",
    "  &=\n",
    "  f((\\mathbf{w_*} + \\mathbf{w}_\\perp)^\\top \\phi(\\mathbf{x}_1), ... , (\\mathbf{w_*} + \\mathbf{w}_\\perp)^\\top \\phi(\\mathbf{x}_N)) + g((\\mathbf{w_*}+\\mathbf{w}_\\perp)^\\top(\\mathbf{w_*}+\\mathbf{w}_\\perp))\n",
    "  \\\\&=\n",
    "  f(\\mathbf{w_*}^\\top \\phi(\\mathbf{x}_1) + \\mathbf{w}_\\perp^\\top\\phi(\\mathbf{x}_1) , ... , \\mathbf{w_*}^\\top \\phi(\\mathbf{x}_N) + \\mathbf{w}_\\perp^\\top\\phi(\\mathbf{x}_N) + g(\\mathbf{w_*}^\\top\\mathbf{w_*}+\\mathbf{w_*}\\mathbf{w}_\\perp^\\top+\\mathbf{w}_\\perp\\mathbf{w_*}^\\top+\\mathbf{w}_\\perp^\\top\\mathbf{w}_\\perp)\n",
    "  \\\\&=\n",
    "  f(\\mathbf{w_*}^\\top \\phi(\\mathbf{x}_1) , ... , \\mathbf{w_*}^\\top \\phi(\\mathbf{x}_N)) + g(\\mathbf{w_*}^\\top\\mathbf{w_*}+\\mathbf{w}_\\perp^\\top\\mathbf{w}_\\perp)\n",
    "\\end{split}\n",
    "\\end{equation}\n",
    "<br/>\n",
    "Since $g(⋅)$ is a monotonically increasing function, $g(⋅)$ is minimised when $\\mathbf{w}_\\perp = 0$.\n",
    "<br/>\n",
    "Therefore, $J(\\mathbf{w})$ is minimized when $$\\mathbf{w} = \\mathbf{w_*} =  \\sum_{n=1}^N \\alpha_n \\phi(\\mathbf{x}_n)$$\n",
    "So $\\mathbf{w}$ takes the form of a linear combination of the basis funcitons $ \\phi(\\mathbf{x}_n)$ for $n = 1,...,N$ when minimizes $J(\\mathbf{w})$"
   ]
  },
  {
   "cell_type": "markdown",
   "metadata": {
    "deletable": true,
    "editable": true
   },
   "source": [
    "## (2 points) Maximum likelihood (ML) and Maximum A Posteriori (MAP)\n",
    "We assume data samples $X_n = \\{ x_1,\\dots,x_n \\}$ are generated i.i.d. from a uniform distribution\n",
    "$ \\DUniform{x}{0}{\\theta} $ between $ 0 $ and an unknown positive parameter $\\theta$:\n",
    "$$\n",
    "   p(x \\Cond \\theta) = \\DUniform{x}{0}{\\theta} = \n",
    "\\begin{cases}\n",
    " 1/\\theta & 0 \\leq x \\leq \\theta \\\\\n",
    " 0        & \\textrm{otherwise} \\\\\n",
    "\\end{cases}\n",
    "$$\n",
    "\n",
    "Assume the data samples $ X_4 = \\{ 5, 7, 3, 9 \\}$ have been observed.\n",
    "\n",
    "1. Calculate $\\theta_{ML} = \\argmax_{\\theta} p(X_4 \\Cond \\theta)$, \n",
    "the maximum likelihood estimate of $\\theta$ for the observed data.\n",
    "\n",
    "- Calculate $p(\\theta \\Cond X_4)$, the posterior distribution of $\\theta$ given that the \n",
    "data $ X_4 $ have been observed and \n",
    "the initial distribution for $\\theta$ is given as $p(\\theta) = p(\\theta \\Cond X_0) = \\DUniform{x}{0}{10}$.\n",
    "\n",
    "- Calculate $\\theta_{MAP} = \\argmax_{\\theta} p(\\theta \\Cond X_4)$, the maximum a posteriori\n",
    "estimate of $\\theta$ given the data $ X_4 $ and the initial distribution $p(\\theta)$ as in the previous question.\n",
    "\n",
    "- Calculate $\\theta_{ML}$, $p(\\theta \\Cond X_4)$, and $\\theta_{MAP}$ for the case that the observed data are $ X_4 = \\{ 9, 5, 7, 3 \\}$ instead of the $ X_4 = \\{ 5, 7, 3, 9 \\}$ given above."
   ]
  },
  {
   "cell_type": "markdown",
   "metadata": {
    "deletable": true,
    "editable": true
   },
   "source": [
    "### <span style=\"color:blue\">Answer</span>\n",
    "1. $p(X_4 | \\theta) = \\displaystyle \\prod_{i=1}^{n} p(x_n | \\theta) = (\\frac{1}{\\theta})^4$<br/>\n",
    "$p(X_4|\\theta)$ decreases as $\\theta$ increases. Since $X_4 = \\{5,7,3,9\\}$ is observed $9 \\leq \\theta$.  Therefore, $\\theta_{ML} = 9$\n",
    "<br/>\n",
    "<br/>\n",
    "2. $p(\\theta | X_4) = \\frac{p(X_4 | \\theta) p(\\theta)}{\\int_{-\\infty}^{\\infty} p(X_4|\\theta)p(\\theta)d\\theta}$\n",
    "<br/>\n",
    "<br/>\n",
    "Since $p(\\theta) = p(\\theta \\Cond X_0) = \\DUniform{x}{0}{10}$ , $p(\\theta) = \\frac{1}{10}$\n",
    "<br/>\n",
    "<br/>\n",
    "$p(X_4 | \\theta) p(\\theta) = (\\frac{1}{\\theta})^4 \\frac{1}{10}$\n",
    "<br/>\n",
    "<br/>\n",
    "As $X_4 = \\{5,7,3,9\\}$ is observed and initial distribution for $\\theta$ is given as $\\DUniform{x}{0}{10}$ , the range of $\\theta$ is $9 \\leq \\theta \\leq 10$.\n",
    "<br/>\n",
    "<br/>\n",
    "Therefore $$\\int_{-\\infty}^{\\infty} p(X_4|\\theta)p(\\theta)d\\theta = \\int_{9}^{10} p(X_4|\\theta)p(\\theta)d\\theta = \\frac{1}{10}\\int_{9}^{10} (\\frac{1}{\\theta})^4 d\\theta = \\frac{1}{10}(-\\frac{1}{3 \\times 10^3} + \\frac{1}{3 \\times 9^3})$$\n",
    "<br/>\n",
    "<br/>\n",
    "Plug them into $p(\\theta | X_4)$ and we get $$p(\\theta | X_4) = \\frac{(\\frac{1}{\\theta})^4 \\frac{1}{10}}{\\frac{1}{10}(-\\frac{1}{3 \\times 10^3} + \\frac{1}{3 \\times 9^3})} = \\frac{3 \\times 10^3 \\times 9^3}{(10^3 - 9^3)\\theta^4} = \\frac{3 \\times 10^3 \\times 9^3}{271\\theta^4}$$\n",
    "<br/>\n",
    "<br/>\n",
    "3. As I mentioned in the previous question, the range of $\\theta$ is $9 \\leq \\theta \\leq 10$ and also \n",
    "$$p(\\theta | X_4) = \\frac{3 \\times 10^3 \\times 9^3}{271\\theta^4}$$\n",
    "$p(\\theta | X_4)$ also decreases as $\\theta$ increases. So we can know that $p(\\theta | X_4)$ is maximised when $\\theta = 9$.\n",
    "<br/>\n",
    "<br/>\n",
    "Therefore $\\theta_{MAP} = 9$\n",
    "<br/>\n",
    "<br/>\n",
    "4. The only difference is the order of the observed data and the order does not matter with $\\theta_{MAP}$ and $\\theta_{ML}$.\n",
    "<br/>\n",
    "<br/>\n",
    "Therefore $\\theta_{ML} = \\theta_{MAP} = 9$."
   ]
  },
  {
   "cell_type": "markdown",
   "metadata": {
    "deletable": true,
    "editable": true
   },
   "source": [
    "## (2 points) Laplace Approximation\n",
    "The function\n",
    "$$\n",
    "  f(z) = z^k e^{-z^2/2} \\qquad \\qquad z \\in [0, \\infty), \\qquad k > 0\n",
    "$$\n",
    "can be considered as an (unnormalised) probability density.\n",
    "\n",
    "1. Verify that it is possible to approximate $ f(z) $ with the Laplace Approximation.\n",
    "\n",
    "- Using the Laplace Approximation, find the mean and the variance of the Normal Distribution which best approximates the normalised version of $ f(z) $.\n",
    "\n",
    "- The analytical form of the normalisation of $ f(x) $ is not so easy to find. Therefore, use Python to implement a numerical approximation using $ N = 100 $ identically sized intervals between $ 0 $ and $ a = 10 $ to calculate the normalisation \n",
    "$$\n",
    "  \\int_0^{\\infty} f(z) \\mathrm{d}z \n",
    "  \\approx \\int_0^{a} z^k e^{-z^2/2} \\mathrm{d}z \n",
    "  \\approx \\sum_{i=1}^{100} \\dots\n",
    "$$\n",
    "and report the results for the normalisation with a \n",
    "precision of $5$ digits after the comma for the three cases $ k = \\{0.5, 3, 5 \\}$.\n",
    "            \n",
    "- For each of the three cases $ k = \\{0.5, 3, 5 \\}$, plot the normalised function $ f(z) $\n",
    "and the corresponding Normal Distribution with parameters  resulting from the Laplace Approximation.\n",
    "\n",
    "- Why is it reasonable to replace the upper limit of $ \\infty$ with $ a = 10 $ ?"
   ]
  },
  {
   "cell_type": "markdown",
   "metadata": {
    "deletable": true,
    "editable": true
   },
   "source": [
    "### <span style=\"color:blue\">Answer</span>\n",
    "The condition to approximate f(z) with the Laplace Approximation is that $A = -\\frac{d^2}{dz^2}\\ln f(z) |_{z=z_0} > 0$ $z_0$ is a point where $f'(z_0) = 0$.\n",
    "<br/>\n",
    "<br/>\n",
    "\\begin{equation}\n",
    "\\begin{split}\n",
    "f'(z)\n",
    "  &=\n",
    "  kz^{k-1}e^{-z^2/2} + z^k (-z) e^{-z^2/2}\n",
    "  \\\\&=\n",
    "  kz^{k-1}e^{-z^2/2} - z^{k+1} e^{-z^2/2}\n",
    "  \\\\&=\n",
    "  (k-z^2)z^{k-1}e^{-z^2/2}\n",
    "\\end{split}\n",
    "\\end{equation}\n",
    "Set $f'(z_0) = 0$ and we get $$k = z_0^2$$ $$z_0 = \\pm \\sqrt{k}$$\n",
    "<br/>\n",
    "<br/>\n",
    "Now we calculate $\\frac{d^2}{dz^2}\\ln f(z_0)$\n",
    "$$\\ln f(z)  =   \\ln z^k e^{-z^2/2} =  k\\ln z - \\frac{z^2}{2}$$\n",
    "$$\\frac{d}{dz}\\ln f(z) = \\frac{k}{z} - z$$\n",
    "$$\\frac{d^2}{dz^2}\\ln f(z_0) = -\\frac{k}{z_0^2} - 1 = -\\frac{k}{k} - 1 = -2$$\n",
    "Therefore $$A = -\\frac{d^2}{dz^2}\\ln f(z) |_{z=z_0} = 2 > 0$$\n",
    "Hence it is verified that it is possible to approximate f(z) with the Laplace Approximation.\n",
    "\n",
    "The mean and the variance of the Normal Distribution which best approximates the normalised version of f(z) are\n",
    "$$\\sigma^2 = \\frac{1}{A} = \\frac{1}{2}$$\n",
    "$$\\mu = z_0 = \\sqrt{k}$$\n",
    "\n",
    "5.$f(10) = 10^k \\times e^{-50} \\simeq 10^k \\times 1.93 \\times 10^{-22}$\n",
    "<br/>\n",
    "<br/>\n",
    "In this question we thought about only three cases $k = \\{0.5, 3, 5\\}$ and in any of these cases the  value of $f(10)$ is very small and we can assume that it is similar equal to zero, and this value will decrease as $z$ increases. Hence, we do not need to consider those values and it is reasonable to replace the upper limit of $\\infty$ with a=10 "
   ]
  },
  {
   "cell_type": "code",
   "execution_count": null,
   "metadata": {
    "collapsed": false
   },
   "outputs": [],
   "source": [
    "def f(z, k):\n",
    "    return z**k * np.exp(-z**2/2)\n",
    "def N_(z, k):\n",
    "    return 1/np.sqrt(np.pi) * np.exp(-(z - np.sqrt(k))**2)\n",
    "\n",
    "a = 10\n",
    "N = 100\n",
    "z = np.arange(0,a,a/N)\n",
    "ks = [0.5, 3, 5]\n",
    "for k in ks:\n",
    "    normalise = f(z, k).sum()*a/N\n",
    "    print(normalise)\n",
    "    plt.figure()\n",
    "    plt.plot(z, f(z, k)/normalise, color=\"blue\", label=\"original curve\")\n",
    "    plt.plot(z, N_(z, k), color=\"red\", label=\"Laplace Approximation\")\n",
    "    plt.legend()"
   ]
  },
  {
   "cell_type": "code",
   "execution_count": null,
   "metadata": {
    "collapsed": true
   },
   "outputs": [],
   "source": []
  }
 ],
 "metadata": {
  "kernelspec": {
   "display_name": "Python 3",
   "language": "python",
   "name": "python3"
  },
  "language_info": {
   "codemirror_mode": {
    "name": "ipython",
    "version": 3
   },
   "file_extension": ".py",
   "mimetype": "text/x-python",
   "name": "python",
   "nbconvert_exporter": "python",
   "pygments_lexer": "ipython3",
   "version": "3.5.2"
  }
 },
 "nbformat": 4,
 "nbformat_minor": 0
}
