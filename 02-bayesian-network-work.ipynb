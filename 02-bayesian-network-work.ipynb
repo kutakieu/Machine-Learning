{
 "cells": [
  {
   "cell_type": "markdown",
   "metadata": {},
   "source": [
    "# Inference and Reasoning with Bayesian Networks"
   ]
  },
  {
   "cell_type": "markdown",
   "metadata": {},
   "source": [
    "###### COMP4670/8600 - Introduction to Statistical Machine Learning - Assignment 2"
   ]
  },
  {
   "cell_type": "markdown",
   "metadata": {},
   "source": [
    "Name: Taku Ueki\n",
    "\n",
    "Student ID:u5934839"
   ]
  },
  {
   "cell_type": "markdown",
   "metadata": {},
   "source": [
    "## Instructions\n",
    "\n",
    "|             |Notes|\n",
    "|:------------|:--|\n",
    "|Maximum marks| 19|\n",
    "|Weight|19% of final grade|\n",
    "|Format| Complete this ipython notebook. Do not forget to fill in your name and student ID above|\n",
    "|Submission mode| Use [wattle](https://wattle.anu.edu.au/)|\n",
    "|Formulas| All formulas which you derive need to be explained unless you use very common mathematical facts. Picture yourself as explaining your arguments to somebody who is just learning about your assignment. With other words, do not assume that the person marking your assignment knows all the background and therefore you can just write down the formulas without any explanation. It is your task to convince the reader that you know what you are doing when you derive an argument. Typeset all formulas in $\\LaTeX$.|\n",
    "| Code quality | Python code should be well structured, use meaningful identifiers for variables and subroutines, and provide sufficient comments. Please refer to the examples given in the tutorials. |\n",
    "| Code efficiency | An efficient implementation of an algorithm uses fast subroutines provided by the language or additional libraries. For the purpose of implementing Machine Learning algorithms in this course, that means using the appropriate data structures provided by Python and in numpy/scipy (e.g. Linear Algebra and random generators). |\n",
    "| Cooperation | All assignments must be done individually. Cheating and plagiarism will be dealt with in accordance with University procedures (please see the ANU policies on [Academic Honesty and Plagiarism](http://academichonesty.anu.edu.au)). Hence, for example, code for programming assignments must not be developed in groups, nor should code be shared. You are encouraged to broadly discuss ideas, approaches and techniques with a few other students, but not at a level of detail where specific solutions or implementation issues are described by anyone. If you choose to consult with other students, you will include the names of your discussion partners for each solution. If you have any questions on this, please ask the lecturer before you act. |"
   ]
  },
  {
   "cell_type": "markdown",
   "metadata": {},
   "source": [
    "$\\newcommand{\\dotprod}[2]{\\left\\langle #1, #2 \\right\\rangle}$\n",
    "$\\newcommand{\\onevec}{\\mathbb{1}}$\n",
    "\n",
    "Setting up the environment (there is some hidden latex which needs to be run in this cell)."
   ]
  },
  {
   "cell_type": "code",
   "execution_count": 1,
   "metadata": {
    "collapsed": false
   },
   "outputs": [],
   "source": [
    "import itertools, copy\n",
    "import matplotlib.pyplot as plt\n",
    "import numpy as np\n",
    "from IPython.display import display, Image\n",
    "\n",
    "%matplotlib inline"
   ]
  },
  {
   "cell_type": "markdown",
   "metadata": {},
   "source": [
    "## Part 1: Graphical Models\n",
    "\n",
    "### Problem setting\n",
    "\n",
    "We are interested to predict the outcome of the election in an imaginary country, called Under Some Assumptions (USA). There are four candidates for whom the citizens can **Vote** for: Bernie, Donald, Hillary, and Ted. The citizens live in four **Region**s: north, south, east and west. We have general demographic information about the people, namely: **Gender** (male, female) and **Hand**edness (right, left). Based on surveys done by an external company, we believe that the **Region** and **Gender** affects whether the people use their **Jacket**s full time, part time or never. Surprisingly, the company told us that the **Age** of their shoes (new, worn, old) depends on how often they wear their **Jacket**s. Furthermore, the **Gender** and their preferred **Hand** affects the **Colour** of their hat (white, black). Finally, surveys say that the citizens will **Vote** based on their **Region**, **Age** of their shoes and **Colour** of their hats.\n",
    "\n",
    "The directed graphical model is depicted below:"
   ]
  },
  {
   "cell_type": "code",
   "execution_count": 2,
   "metadata": {
    "collapsed": false
   },
   "outputs": [
    {
     "data": {
      "text/html": [
       "<img src=\"https://machlearn.gitlab.io/isml2017/assignments/election_model.png\"/>"
      ],
      "text/plain": [
       "<IPython.core.display.Image object>"
      ]
     },
     "execution_count": 2,
     "metadata": {},
     "output_type": "execute_result"
    }
   ],
   "source": [
    "Image(url=\"https://machlearn.gitlab.io/isml2017/assignments/election_model.png\")"
   ]
  },
  {
   "cell_type": "markdown",
   "metadata": {},
   "source": [
    "### Conditional probability tables\n",
    "\n",
    "After paying the survey firm some more money, they provided the following conditional probability tables.\n",
    "\n",
    "|$p(R)$ | R=n | R=s | R=e | R=w |\n",
    "|:-----:|:--:|:--:|:--:|:--:|\n",
    "|marginal| 0.2 | 0.1 | 0.5 | 0.2 |\n",
    "\n",
    "|$p(G)$ | G=m | G=f |\n",
    "|:-----:|:--:|:--:|\n",
    "|marginal| 0.3 | 0.7 |\n",
    "\n",
    "|$p(H)$ | H=r | H=l |\n",
    "|:-----:|:--:|:--:|\n",
    "|marginal| 0.9 | 0.1 |\n",
    "\n",
    "| $p(J|R,G)$ | R=n,G=m | R=n,G=f | R=s,G=m | R=s,G=f | R=e,G=m | R=e,G=f | R=w,G=m | R=w,G=f |\n",
    "|:-----:|:--:|:--:|:--:|:--:|:--:|:--:|:--:|:--:|\n",
    "|**J**=full $\\quad$  |0.9 |0.8 |0.1 | 0.3 |0.4 |0.01| 0.02 | 0.2  |\n",
    "|**J**=part $\\quad$  |0.08|0.17|0.03| 0.35|0.05|0.01| 0.2  | 0.08 |\n",
    "|**J**=never $\\quad$ |0.02|0.03|0.87| 0.35|0.55|0.98| 0.78 | 0.72 |\n",
    "\n",
    "| $p(A|J)$ | J=full | J=part | J=never |\n",
    "|:-----:|:--:|:--:|:--:|\n",
    "|**A**=new  |0.01|0.96|0.3|\n",
    "|**A**=worn |0.98|0.03|0.5|\n",
    "|**A**=old  |0.01|0.01|0.2|\n",
    "\n",
    "| $p(C|G,H)$ | G=m,H=r | G=m,H=l | G=f,H=r | G=f,H=l |\n",
    "|:-----:|:--:|:--:|:--:|:--:|\n",
    "|**C**=black $\\quad$ |0.9 |0.83 |0.17 | 0.3 |\n",
    "|**C**=white $\\quad$ |0.1 |0.17|0.83 | 0.7 |\n",
    "\n",
    "The final conditional probability table is given by the matrix below. The order of the rows and columns are also given below."
   ]
  },
  {
   "cell_type": "code",
   "execution_count": 3,
   "metadata": {
    "collapsed": true
   },
   "outputs": [],
   "source": [
    "vote_column_names = ['north,new,black', 'north,new,white', 'north,worn,black', 'north,worn,white', \n",
    "                'north,old,black', 'north,old,white', 'south,new,black', 'south,new,white', \n",
    "                'south,worn,black', 'south,worn,white', 'south,old,black', 'south,old,white', \n",
    "                'east,new,black', 'east,new,white', 'east,worn,black', 'east,worn,white', \n",
    "                'east,old,black', 'east,old,white', 'west,new,black', 'west,new,white', \n",
    "                'west,worn,black', 'west,worn,white', 'west,old,black', 'west,old,white']\n",
    "\n",
    "vote_outcomes = ('bernie','donald','hillary','ted')\n",
    "\n",
    "vote_pmf_array = np.array(\n",
    "        [\n",
    "            [0.1,0.1,0.4,0.02,0.2,0.1,0.1,0.04,0.2,0.1,0.1 ,0.1,0.4 ,0.1 ,0.1,0.1 ,0.1,0.04,0.3,0.2,0.1,0.3,0.34,0.35],\n",
    "            [0.3,0.4,0.2,0.5 ,0.1,0.2,0.1,0.5 ,0.1,0.2,0.5 ,0.3,0.2 ,0.42,0.2,0.67,0.4,0.4 ,0.1,0.1,0.5,0.1,0.1 ,0.1],\n",
    "            [0.5,0.4,0.3,0.3 ,0.5,0.6,0.6,0.3 ,0.5,0.4,0.36,0.3,0.28,0.3 ,0.4,0.1 ,0.4,0.16,0.4,0.2,0.3,0.3,0.4 ,0.5],\n",
    "            [0.1,0.1,0.1,0.18,0.2,0.1,0.2,0.16,0.2,0.3,0.04,0.3,0.12,0.18,0.3,0.13,0.1,0.4 ,0.2,0.5,0.1,0.3,0.16,0.05],\n",
    "        ]\n",
    ")"
   ]
  },
  {
   "cell_type": "markdown",
   "metadata": {},
   "source": [
    "The 7 conditional probability tables in are encoded in python below. \n",
    "\n",
    "**Base your subsequent computations on these objects**."
   ]
  },
  {
   "cell_type": "code",
   "execution_count": 4,
   "metadata": {
    "collapsed": false
   },
   "outputs": [],
   "source": [
    "class RandomVariable(object):\n",
    "    def __init__(self, name, parents, outcomes, pmf_array):\n",
    "        assert isinstance(name, str)\n",
    "        assert all(isinstance(_, RandomVariable) for _ in parents)\n",
    "        assert isinstance(outcomes, tuple)\n",
    "        assert all(isinstance(_, str) for _ in outcomes)\n",
    "        assert isinstance(parents, tuple)\n",
    "        assert isinstance(pmf_array, np.ndarray)\n",
    "        keys = tuple(map(tuple, itertools.product(*[_.outcomes for _ in parents])))\n",
    "        assert np.allclose(np.sum(pmf_array, 0), 1)\n",
    "        expected_shape = (len(outcomes), len(keys))\n",
    "        assert pmf_array.shape == expected_shape, (pmf_array.shape, expected_shape)\n",
    "        pmfs = {k: {outcome: probability for outcome, probability in zip(outcomes, probabilities)} \n",
    "                for k, probabilities in zip(keys, pmf_array.T)}\n",
    "        self.name, self.parents, self.outcomes, self.pmfs = name, parents, outcomes, pmfs\n",
    "\n",
    "\n",
    "class BayesianNetwork(object):\n",
    "    def __init__(self, *random_variables):\n",
    "        assert all(isinstance(_, RandomVariable) for _ in random_variables)\n",
    "        self.random_variables = random_variables\n",
    "        \n",
    "\n",
    "region_pmf_array = np.array([[0.2, 0.1, 0.5, 0.2]]).T\n",
    "region = RandomVariable(\n",
    "    name='region',\n",
    "    parents=tuple(),\n",
    "    outcomes=('north', 'south', 'east', 'west'), \n",
    "    pmf_array = region_pmf_array,\n",
    ")\n",
    "\n",
    "gender_pmf_array = np.array([[0.3, 0.7]]).T\n",
    "gender = RandomVariable(\n",
    "    name='gender',\n",
    "    parents=tuple(),\n",
    "    outcomes=('male', 'female'), \n",
    "    pmf_array = gender_pmf_array\n",
    ")\n",
    "\n",
    "hand_pmf_array = np.array([[0.9, 0.1]]).T\n",
    "hand = RandomVariable(\n",
    "    name='hand',\n",
    "    parents=tuple(),\n",
    "    outcomes=('left', 'right'), \n",
    "    pmf_array = hand_pmf_array\n",
    ")\n",
    "\n",
    "jacket_pmf_array = np.array(\n",
    "        [\n",
    "            [0.9,0.8,0.1,0.3,0.4,0.01,0.02,0.2],\n",
    "            [0.08,0.17,0.03,0.35,0.05,0.01,0.2,0.08],\n",
    "            [0.02,0.03,0.87,0.35,0.55,0.98,0.78,0.72],\n",
    "        ]\n",
    "    )\n",
    "jacket = RandomVariable(\n",
    "    name='jacket',\n",
    "    parents=(region, gender),\n",
    "    outcomes=('full', 'part', 'never'), \n",
    "    pmf_array = jacket_pmf_array\n",
    ")\n",
    "\n",
    "age_pmf_array = np.array(\n",
    "        [\n",
    "            [0.01,0.96,0.3],\n",
    "            [0.98,0.03,0.5],\n",
    "            [0.01,0.01,0.2],\n",
    "        ]\n",
    "    )\n",
    "age = RandomVariable(\n",
    "    name='age',\n",
    "    parents=(jacket, ),\n",
    "    outcomes=('new', 'worn', 'old'), \n",
    "    pmf_array = age_pmf_array\n",
    ")\n",
    "\n",
    "colour_pmf_array = np.array(\n",
    "        [\n",
    "            [0.9,0.83,0.17,0.3],\n",
    "            [0.1,0.17,0.83,0.7],\n",
    "        ]\n",
    "    )\n",
    "colour = RandomVariable(\n",
    "    name='colour',\n",
    "    parents=(gender, hand),\n",
    "    outcomes=('black', 'white'),\n",
    "    pmf_array = colour_pmf_array\n",
    ")\n",
    "\n",
    "vote = RandomVariable(\n",
    "    name='vote',\n",
    "    parents=(region, age, colour),\n",
    "    outcomes=vote_outcomes,\n",
    "    pmf_array = vote_pmf_array\n",
    ")\n",
    "\n",
    "\n",
    "election_model = BayesianNetwork(region, gender, hand, jacket, age, colour, vote)"
   ]
  },
  {
   "cell_type": "markdown",
   "metadata": {},
   "source": [
    "### 1A (1 mark) Joint distribution of a subset\n",
    "\n",
    "- Compute the joint distribution of **Jacket**, **Region** and **Gender**. Print in a tab separated format the resulting distribution."
   ]
  },
  {
   "cell_type": "code",
   "execution_count": 5,
   "metadata": {
    "collapsed": false
   },
   "outputs": [
    {
     "name": "stdout",
     "output_type": "stream",
     "text": [
      "{'east,female,never': 0.34299999999999997, 'south,female,never': 0.024499999999999997, 'west,female,full': 0.027999999999999997, 'north,male,full': 0.053999999999999999, 'north,female,part': 0.023799999999999998, 'west,female,never': 0.10079999999999999, 'south,male,full': 0.0030000000000000001, 'north,male,never': 0.0011999999999999999, 'east,male,part': 0.0074999999999999997, 'west,female,part': 0.0112, 'west,male,never': 0.046800000000000001, 'south,female,full': 0.020999999999999998, 'south,male,part': 0.00089999999999999998, 'north,male,part': 0.0047999999999999996, 'north,female,full': 0.11199999999999999, 'south,male,never': 0.026099999999999998, 'north,female,never': 0.0041999999999999997, 'east,female,full': 0.0034999999999999996, 'east,male,full': 0.059999999999999998, 'east,male,never': 0.082500000000000004, 'west,male,part': 0.012, 'west,male,full': 0.0011999999999999999, 'south,female,part': 0.024499999999999997, 'east,female,part': 0.0034999999999999996}\n"
     ]
    }
   ],
   "source": [
    "### Solution goes here\n",
    "\n",
    "\"\"\"to compute the joint distribution, compute p(J|R,G) * p(R) * p(G) for all possible combination of outcomes\"\"\"\n",
    "sol = {}\n",
    "for r in region.outcomes:\n",
    "    for g in gender.outcomes:\n",
    "        for j in jacket.outcomes:\n",
    "            sol[r +\",\"+ g+\",\"+ j] = region.pmfs[region.parents][r] * gender.pmfs[gender.parents][g] * jacket.pmfs[(r,g)][j]\n",
    "print(sol)\n",
    "\n"
   ]
  },
  {
   "cell_type": "markdown",
   "metadata": {},
   "source": [
    "| $p(J,R,G)$ | R=n,G=m | R=n,G=f | R=s,G=m | R=s,G=f | R=e,G=m | R=e,G=f | R=w,G=m | R=w,G=f |\n",
    "|:-----:|:--:|:--:|:--:|:--:|:--:|:--:|:--:|:--:|\n",
    "|**J**=full $\\quad$  |0.05399 |0.11199 |0.00300 | 0.02099 |0.05999 |0.00349| 0.00119 | 0.02799 |\n",
    "|**J**=part $\\quad$  |0.00479|0.02379|0.00089| 0.02449|0.00749|0.00349| 0.012  | 0.0112 |\n",
    "|**J**=never $\\quad$ |0.00119|0.00419|0.02609| 0.02449|0.08250|0.34299| 0.04680 | 0.10079 |"
   ]
  },
  {
   "cell_type": "markdown",
   "metadata": {},
   "source": [
    "### 1B1 (2 marks) Variable Ordering\n",
    "\n",
    "1. Implement a function which determines an appropriate ordering of the variables for use in the following scheme:\n",
    "    - For the first node R, draw a sample from p(R).\n",
    "    - For each subsequent node, draw a sample from the conditional distribution $p(X \\,|\\, \\text{parents}(X))$ where $\\text{parents}(X)$ are the parents of the variable $X$ in the graphical model.\n",
    "- Use your function to compute such an ordering and print the result in a human friendly format."
   ]
  },
  {
   "cell_type": "code",
   "execution_count": 6,
   "metadata": {
    "collapsed": false
   },
   "outputs": [
    {
     "name": "stdout",
     "output_type": "stream",
     "text": [
      "order = region gender hand colour jacket age vote \n"
     ]
    }
   ],
   "source": [
    "# Solution goes here\n",
    "from copy import deepcopy\n",
    "\n",
    "def determine_order(nodes):\n",
    "    _nodes = deepcopy(nodes)\n",
    "    _nodes = list(_nodes)\n",
    "    order = []\n",
    "    \n",
    "    \"\"\"put the nodes that do not have any parents in the list first\"\"\"\n",
    "    for node in _nodes:\n",
    "        if len(node.parents) == 0:\n",
    "            order.append(node)\n",
    "    order_names = [n.name for n in order]\n",
    "\n",
    "    while len(_nodes) != 0:\n",
    "        for node in _nodes:\n",
    "            flag = True  #if node's parents are already determined or not\n",
    "            \n",
    "            #remove the nodes that are already appended to the result list\n",
    "            if len(node.parents) == 0:\n",
    "                _nodes.remove(node)\n",
    "                continue\n",
    "                \n",
    "            # if all parents of a node are already in the result list, put this node to the list  \n",
    "            for parent in node.parents:\n",
    "                if parent.name not in order_names:\n",
    "                    flag = False\n",
    "                    break\n",
    "            if flag:\n",
    "                order_names.append(node.name)\n",
    "                order.append(node)\n",
    "                _nodes.remove(node)\n",
    "        \n",
    "    return tuple(order)\n",
    "\n",
    "print(\"order = \", end=\"\")\n",
    "# for o in determine_order((vote,age,hand, region, gender, colour, jacket)):\n",
    "a = [region, age, colour, gender, hand, jacket, vote]\n",
    "a = tuple(a)\n",
    "for o in determine_order(a):\n",
    "    print(o.name , end=\" \")\n",
    "print()\n",
    "            \n"
   ]
  },
  {
   "cell_type": "markdown",
   "metadata": {},
   "source": [
    "### 1B2 (2 marks) Sampling\n",
    "\n",
    "1. Given the ordering you have determined above, implement the sampler described in the previous question. If you were unable to compute the ordering in the previous question, use ``ordering = (hand, region, gender, colour, jacket, age, vote)``.\n",
    "2. Draw a single sample and print the result in a human friendly format."
   ]
  },
  {
   "cell_type": "code",
   "execution_count": 7,
   "metadata": {
    "collapsed": false
   },
   "outputs": [
    {
     "name": "stdout",
     "output_type": "stream",
     "text": [
      "smaple from each variable one by one\n",
      "region = north\n",
      "gender = male\n",
      "hand = left\n",
      "jacket = full\n",
      "colour = black\n",
      "age = worn\n",
      "vote = hillary\n",
      "\n",
      "smaple from all variables\n",
      "{'colour': 'black', 'hand': 'left', 'gender': 'male', 'age': 'worn', 'vote': 'hillary', 'region': 'west', 'jacket': 'part'}\n"
     ]
    }
   ],
   "source": [
    "# Solution goes here\n",
    "def sample_first_node(node, parents=None):\n",
    "    cdf = np.cumsum([node.pmfs[node.parents][k] for k in node.outcomes])\n",
    "    u = np.random.rand()\n",
    "    i = np.argmax(u < cdf)\n",
    "    return node.outcomes[i]\n",
    "\n",
    "\n",
    "def sample_subsequent_node(node, parents):\n",
    "    cdf = np.cumsum([node.pmfs[parents][k] for k in node.outcomes])\n",
    "    u = np.random.rand()\n",
    "    i = np.argmax(u < cdf)\n",
    "    return node.outcomes[i]\n",
    "\n",
    "print(\"smaple from each variable one by one\")\n",
    "r = sample_first_node(region)\n",
    "print(\"region = \" + r)\n",
    "g = sample_first_node(gender)\n",
    "print(\"gender = \" + g)\n",
    "h = sample_first_node(hand)\n",
    "print(\"hand = \" + h)\n",
    "j = sample_subsequent_node(jacket, (r,g))\n",
    "print(\"jacket = \" + j)\n",
    "c = sample_subsequent_node(colour, (g,h))\n",
    "print(\"colour = \" + c)\n",
    "a = sample_subsequent_node(age, (j,))\n",
    "print(\"age = \" + a)\n",
    "v = sample_subsequent_node(vote, (r,a,c))\n",
    "print(\"vote = \" + v)\n",
    "\n",
    "def sampler(ordering):\n",
    "    node2value = {}\n",
    "    for node in ordering:\n",
    "        if len(node.parents) == 0:\n",
    "            node2value[node.name] = sample_first_node(node)\n",
    "        else:\n",
    "#             print(node.name)\n",
    "#             print(tuple([node2value[parent.name] for parent in node.parents]))\n",
    "            node2value[node.name] = sample_subsequent_node(node, tuple([node2value[parent.name] for parent in node.parents]))\n",
    "    return node2value\n",
    "\n",
    "print(\"\\nsmaple from all variables\")\n",
    "print(sampler(determine_order((hand, region, gender, colour, jacket, age, vote))))"
   ]
  },
  {
   "cell_type": "markdown",
   "metadata": {},
   "source": [
    "##### 1B3 (2 marks) Marginals\n",
    "\n",
    "1. Calculate (and show in LaTeX) the marginal distribution for **Jacket**.\n",
    "- Implement a function which computes the marginal distribution of each variable. It should make use of the ordering used by your sampler.\n",
    "- Implement a function which takes a list of samples the model and computes the empirical marginal distribution of each variable.\n",
    "- Plot the theoretical and approximate marginals which you obtain along with the absolute percent error between the two, in the format below:"
   ]
  },
  {
   "cell_type": "markdown",
   "metadata": {},
   "source": [
    "1. marginal distribution for Jacket is caluculated by\n",
    "$$ P(J) = \\sum_{G,R} P(J|G,R)P(G)P(R)$$"
   ]
  },
  {
   "cell_type": "raw",
   "metadata": {},
   "source": [
    "region\n",
    "outcome\texact\tapprox\terror (%)\n",
    "north\t0.20\t0.20\t0.4\n",
    "south\t0.10\t0.10\t0.1\n",
    "east\t0.50\t0.50\t0.4\n",
    "west\t0.20\t0.20\t0.6\n",
    "\n",
    "gender\n",
    "outcome\texact\tapprox\terror (%)\n",
    "male\t0.30\t0.30\t0.1\n",
    "female\t0.70\t0.70\t0.0\n",
    "\n",
    "etc."
   ]
  },
  {
   "cell_type": "code",
   "execution_count": 8,
   "metadata": {
    "collapsed": false
   },
   "outputs": [
    {
     "name": "stdout",
     "output_type": "stream",
     "text": [
      "region\n",
      "{'east': 0.5, 'south': 0.10000000000000001, 'north': 0.20000000000000001, 'west': 0.20000000000000001}\n",
      "gender\n",
      "{'male': 0.29999999999999999, 'female': 0.69999999999999996}\n",
      "hand\n",
      "{'right': 0.10000000000000001, 'left': 0.90000000000000002}\n",
      "jacket\n",
      "{'part': 0.088199999999999987, 'full': 0.28269999999999995, 'never': 0.62909999999999999}\n",
      "age\n",
      "{'new': 0.276229, 'old': 0.12952900000000001, 'worn': 0.59424200000000005}\n",
      "colour\n",
      "{'white': 0.60400000000000009, 'black': 0.39600000000000007}\n",
      "vote\n",
      "{'ted': 0.20465624915999994, 'bernie': 0.15481761532000005, 'donald': 0.34502085730000009, 'hillary': 0.29550527822000011}\n"
     ]
    }
   ],
   "source": [
    "\n",
    "def determine_necessary_nodes(variable):\n",
    "    \"\"\"this is a function that determine necessary nodes to calculate the probability of the variable which passed as an argument\"\"\"\n",
    "    result = []\n",
    "    queue = list(variable.parents)\n",
    "    while len(queue) != 0:\n",
    "        node = queue.pop(0)\n",
    "        if node not in result:\n",
    "            result.append(node)\n",
    "        for parent in node.parents:\n",
    "            queue.append(parent)\n",
    "    return determine_order(result)\n",
    "\n",
    "def marginal(variable):\n",
    "    # create a dictionary to store the result\n",
    "    result = {v:0 for v in variable.outcomes}\n",
    "    \n",
    "    # determine the necessary nodes by using the finction above\n",
    "    necessary_nodes = determine_necessary_nodes(variable)\n",
    "    necessary_nodes_names = [node.name for node in necessary_nodes]\n",
    "    \n",
    "    # create a list that contains all outcomes of necessary nodes and also derive all possible combinations of those outcomes\n",
    "    lists = [node.outcomes for node in necessary_nodes]\n",
    "    combinations = list(itertools.product(*lists))\n",
    "    variable_parents_names = [parent.name for parent in variable.parents]\n",
    "    \n",
    "    \"\"\"for each combination in the combinations that I derived above, compute the probability and add it to the result dictionary\"\"\"\n",
    "    for combination in combinations:\n",
    "        node2prob = {}\n",
    "        for node in necessary_nodes:\n",
    "            parents_index = []\n",
    "            for parent in node.parents:\n",
    "                parents_index.append(necessary_nodes_names.index(parent.name))\n",
    "            parents_attribute = tuple(combination[i] for i in parents_index)\n",
    "            if node.name in variable_parents_names:\n",
    "                # if the node is one of parents of target variable, multiply the node's parents probabilities\n",
    "                temp = 1\n",
    "                for parent in node.parents:\n",
    "                    temp *= node2prob[parent.name]\n",
    "                node2prob[node.name] = node.pmfs[parents_attribute][combination[necessary_nodes_names.index(node.name)]] * temp\n",
    "            else:\n",
    "                node2prob[node.name] = node.pmfs[parents_attribute][combination[necessary_nodes_names.index(node.name)]]\n",
    "        temp = 1\n",
    "        parents_index = []\n",
    "        for parent in variable.parents:\n",
    "            temp *= node2prob[parent.name]\n",
    "            parents_index.append(necessary_nodes_names.index(parent.name))\n",
    "        parents_attribute = tuple(combination[i] for i in parents_index)\n",
    "        for v in variable.outcomes:\n",
    "            result[v] += variable.pmfs[parents_attribute][v] * temp\n",
    "    return result\n",
    "            \n",
    "for node in (region, gender, hand, jacket, age, colour, vote):\n",
    "    print(node.name)\n",
    "    print(marginal(node))\n"
   ]
  },
  {
   "cell_type": "code",
   "execution_count": 9,
   "metadata": {
    "collapsed": false
   },
   "outputs": [
    {
     "name": "stdout",
     "output_type": "stream",
     "text": [
      "{'colour': {'white': 54, 'black': 46}, 'hand': {'right': 9, 'left': 91}, 'gender': {'male': 31, 'female': 69}, 'age': {'new': 24, 'old': 15, 'worn': 61}, 'vote': {'ted': 21, 'bernie': 13, 'donald': 39, 'hillary': 27}, 'region': {'east': 58, 'south': 7, 'north': 22, 'west': 13}, 'jacket': {'part': 6, 'full': 33, 'never': 61}}\n",
      "hand\n",
      "outcome   exact   approx   error (%)\n",
      "left   0.9   0.92   0.02\n",
      "right   0.1   0.08   0.02\n",
      "\n",
      "region\n",
      "outcome   exact   approx   error (%)\n",
      "north   0.2   0.2   0.0\n",
      "south   0.1   0.09   0.01\n",
      "east   0.5   0.47   0.03\n",
      "west   0.2   0.24   0.04\n",
      "\n",
      "gender\n",
      "outcome   exact   approx   error (%)\n",
      "male   0.3   0.37   0.07\n",
      "female   0.7   0.63   0.07\n",
      "\n",
      "colour\n",
      "outcome   exact   approx   error (%)\n",
      "black   0.396   0.46   0.064\n",
      "white   0.604   0.54   0.064\n",
      "\n",
      "jacket\n",
      "outcome   exact   approx   error (%)\n",
      "full   0.2827   0.24   0.0427\n",
      "part   0.0882   0.1   0.0118\n",
      "never   0.6291   0.66   0.0309\n",
      "\n",
      "age\n",
      "outcome   exact   approx   error (%)\n",
      "new   0.276229   0.32   0.043771\n",
      "worn   0.594242   0.6   0.005758\n",
      "old   0.129529   0.08   0.049529\n",
      "\n",
      "vote\n",
      "outcome   exact   approx   error (%)\n",
      "bernie   0.15481761532   0.19   0.03518238468\n",
      "donald   0.3450208573   0.29   0.0550208573\n",
      "hillary   0.29550527822   0.24   0.05550527822\n",
      "ted   0.20465624916   0.28   0.07534375084\n",
      "\n"
     ]
    }
   ],
   "source": [
    "def empirical_marginal_distribution(n):\n",
    "    nodeName2sample = {}\n",
    "    for node in (hand, region, gender, colour, jacket, age, vote):\n",
    "        tmp_dic = {}\n",
    "        for outcome in node.outcomes:\n",
    "            tmp_dic[outcome] = 0\n",
    "        nodeName2sample[node.name] = tmp_dic\n",
    "    for i in range(n):\n",
    "        sample = sampler(determine_order((hand, region, gender, colour, jacket, age, vote)))\n",
    "        for node in (hand, region, gender, colour, jacket, age, vote):\n",
    "            nodeName2sample[node.name][sample[node.name]] += 1\n",
    "    return nodeName2sample\n",
    "        \n",
    "samples = empirical_marginal_distribution(100)\n",
    "print(samples)\n",
    "\n",
    "def plot_theoretical_and_approximate_marginals(n):\n",
    "    approximate = empirical_marginal_distribution(n)\n",
    "#     print(approximate)\n",
    "    for node in (hand, region, gender, colour, jacket, age, vote):\n",
    "        for outcome in node.outcomes:\n",
    "            approximate[node.name][outcome] /= n\n",
    "#     print(approximate)\n",
    "    theoretical = {}\n",
    "    for node in (hand, region, gender, colour, jacket, age, vote):\n",
    "        theoretical[node.name] = marginal(node)\n",
    "#     print(theoretical)\n",
    "    for node in (hand, region, gender, colour, jacket, age, vote):\n",
    "        print(node.name)\n",
    "        print(\"outcome   exact   approx   error (%)\")\n",
    "        for outcome in node.outcomes:\n",
    "            exact = theoretical[node.name][outcome]\n",
    "            approx = approximate[node.name][outcome]\n",
    "#             print(outcome + \"   \" + str(round(exact, 2)) + \"   \" + str(round(approx, 2)) + \"   \" + str(abs(round(exact - approx, 2))))\n",
    "            print(outcome + \"   \" + str(exact) + \"   \" + str(approx) + \"   \" + str(abs(exact - approx)))\n",
    "        print()\n",
    "    \n",
    "plot_theoretical_and_approximate_marginals(100)"
   ]
  },
  {
   "cell_type": "markdown",
   "metadata": {},
   "source": [
    "### 1B4 (1 mark) Easy conditional probabilities\n",
    "\n",
    "Compute $p(X \\,|\\, G=\\text{female})$ for all $X$ other than $G$,\n",
    "1. Approximately, using your sampler\n",
    "- Exactly, using your marginal calculating function from the previous question. Hint: what happens if you set  $p(G=\\text{female})=1$ in your model?\n",
    "- Plot the results side by side in the same format as the previous question.\n",
    "- State for which variables other than $G$ the theoretical scheme above can be used to compute such conditionals, and why."
   ]
  },
  {
   "cell_type": "code",
   "execution_count": 11,
   "metadata": {
    "collapsed": false
   },
   "outputs": [
    {
     "name": "stdout",
     "output_type": "stream",
     "text": [
      "{'colour': {'white': 0.9, 'black': 0.1}, 'hand': {'right': 0.07, 'left': 0.93}, 'gender': {'male': 0.0, 'female': 1.0}, 'age': {'new': 0.28, 'old': 0.12, 'worn': 0.6}, 'vote': {'ted': 0.19, 'bernie': 0.1, 'donald': 0.49, 'hillary': 0.22}, 'region': {'east': 0.46, 'south': 0.09, 'north': 0.25, 'west': 0.21}, 'jacket': {'part': 0.09, 'full': 0.31, 'never': 0.6}}\n",
      "p(hand | G=female)\n",
      "outcome   exact   approx   error (%)\n",
      "left   0.9   0.9   0.0\n",
      "right   0.1   0.1   0.0\n",
      "\n",
      "p(region | G=female)\n",
      "outcome   exact   approx   error (%)\n",
      "north   0.2   0.19   0.01\n",
      "south   0.1   0.08   0.02\n",
      "east   0.5   0.46   0.04\n",
      "west   0.2   0.27   0.07\n",
      "\n",
      "p(gender | G=female)\n",
      "outcome   exact   approx   error (%)\n",
      "male   0   0.0   0.0\n",
      "female   1   1.0   0.0\n",
      "\n",
      "p(colour | G=female)\n",
      "outcome   exact   approx   error (%)\n",
      "black   0.183   0.13   0.053\n",
      "white   0.817   0.87   0.053\n",
      "\n",
      "p(jacket | G=female)\n",
      "outcome   exact   approx   error (%)\n",
      "full   0.235   0.24   0.005\n",
      "part   0.09   0.09   1.38777878078e-17\n",
      "never   0.675   0.67   0.005\n",
      "\n",
      "p(age | G=female)\n",
      "outcome   exact   approx   error (%)\n",
      "new   0.29125   0.23   0.06125\n",
      "worn   0.5705   0.59   0.0195\n",
      "old   0.13825   0.18   0.04175\n",
      "\n",
      "p(vote | G=female)\n",
      "outcome   exact   approx   error (%)\n",
      "bernie   0.133113736   0.12   0.013113736\n",
      "donald   0.3872506075   0.42   0.0327493925\n",
      "hillary   0.268675286   0.2   0.068675286\n",
      "ted   0.2109603705   0.26   0.0490396295\n",
      "\n"
     ]
    }
   ],
   "source": [
    "# Solution goes here\n",
    "\"\"\"compute p(X|G=female) by using the sampler above, the argument n is the number of the samples\"\"\"\n",
    "def computeP_XgFemale_approx(n):\n",
    "    nodeName2sample = {}\n",
    "    for node in (hand, region, gender, colour, jacket, age, vote):\n",
    "        tmp_dic = {}\n",
    "        for outcome in node.outcomes:\n",
    "            tmp_dic[outcome] = 0\n",
    "        nodeName2sample[node.name] = tmp_dic\n",
    "    num_female = 0\n",
    "    for i in range(n):\n",
    "        sample = sampler(determine_order((hand, region, gender, colour, jacket, age, vote)))\n",
    "        if sample[\"gender\"] == \"female\":\n",
    "            num_female += 1\n",
    "            for node in (hand, region, gender, colour, jacket, age, vote):\n",
    "                nodeName2sample[node.name][sample[node.name]] += 1\n",
    "    for node in (hand, region, gender, colour, jacket, age, vote):\n",
    "        for outcome in node.outcomes:\n",
    "            nodeName2sample[node.name][outcome] = round(nodeName2sample[node.name][outcome]/num_female,2)\n",
    "    return nodeName2sample\n",
    "print(computeP_XgFemale_approx(100))\n",
    "\n",
    "\"\"\"compute theoretical p(X|G=female), by setting the probability that gender = female is 100% and using the marginal function\"\"\"\n",
    "gender.pmfs[gender.parents][\"male\"] = 0\n",
    "gender.pmfs[gender.parents][\"female\"] = 1\n",
    "\n",
    "def plot_theoretical_and_approximate_marginals(n):\n",
    "    approximate = computeP_XgFemale_approx(n)\n",
    "    theoretical = {}\n",
    "    for node in (hand, region, gender, colour, jacket, age, vote):\n",
    "        theoretical[node.name] = marginal(node)\n",
    "#     print(theoretical)\n",
    "    for node in (hand, region, gender, colour, jacket, age, vote):\n",
    "        print(\"p(\" + node.name + \" | \" + \"G=female)\")\n",
    "        print(\"outcome   exact   approx   error (%)\")\n",
    "        for outcome in node.outcomes:\n",
    "            exact = theoretical[node.name][outcome]\n",
    "            approx = approximate[node.name][outcome]\n",
    "#             print(outcome + \"   \" + str(round(exact, 2)) + \"   \" + str(round(approx, 2)) + \"   \" + str(abs(round(exact - approx, 2))))\n",
    "            print(outcome + \"   \" + str(exact) + \"   \" + str(approx) + \"   \" + str(abs(exact - approx)))\n",
    "        print()\n",
    "\n",
    "plot_theoretical_and_approximate_marginals(100)"
   ]
  },
  {
   "cell_type": "markdown",
   "metadata": {},
   "source": [
    "4.You can use the theoretical scheme above for all variables that do not have any parents: region and hand. As these nodes do not have parents, they do not get affected by other variables. Also those variables are independent each other, so even if you change the probabilities of those variables, they do not affect on other nodes. However, if you apply the scheme to the other nodes, there will be some contradictions in the graphical model. So, that cannot be applied to those nodes."
   ]
  },
  {
   "cell_type": "markdown",
   "metadata": {},
   "source": [
    "### 1B5 (3 marks) General conditional probabilities\n",
    "\n",
    "1. Write down the expression of the joint probability $p(R,G,H,J,A,C,V)$ in terms of the conditional probabilities in the graphical model.\n",
    "- Derive $p(G = male \\,|\\, V = Donald)$ in terms of the conditional probabilities of the graphical model.\n",
    "- Compute and display in a human friendly format the conditional distributions $p(G=g \\,|\\, V=v)$ for all genders $g$ and votes $v$, by naively marginalising the other variables (other than $G$ and $V$, that is)."
   ]
  },
  {
   "cell_type": "markdown",
   "metadata": {
    "collapsed": true
   },
   "source": [
    "### Solution description\n",
    "$$\n",
    "p(R,G,H,J,A,C,V) = p(R)p(G)p(H)p(J\\,|\\,R,G)p(A\\,|\\,J)p(C\\,|\\,G,H)p(V\\,|\\,R,A,C)\n",
    "$$\n",
    "\n",
    "\\begin{equation}\n",
    "\\begin{split}\n",
    "p(G=male \\,|\\, V=Donald) &= \\frac{p(G=male,V=Donald)}{p(V=Donald)}\n",
    "\\\\&= \\frac{\\sum_{R,H,J,A,C,V}p(R,G=male,H,J,A,C,V=Donald)}{\\sum_{R,G,H,J,A,C}p(R,G,H,J,A,C,V=Donald)}\n",
    "\\\\&= \\frac{\\sum_{R,H,J,A,C,V}p(R)p(G=male)p(H)p(J\\,|\\,R,G=male)p(A\\,|\\,J)p(C\\,|\\,G=male,H)p(V=Donald\\,|\\,R,A,C)}{\\sum_{R,G,H,J,A,C}p(R)p(G)p(H)p(J\\,|\\,R,G)p(A\\,|\\,J)p(C\\,|\\,G,H)p(V=Donald\\,|\\,R,A,C)}\n",
    "\\end{split}\n",
    "\\end{equation}"
   ]
  },
  {
   "cell_type": "code",
   "execution_count": 12,
   "metadata": {
    "collapsed": false
   },
   "outputs": [
    {
     "name": "stdout",
     "output_type": "stream",
     "text": [
      "p(G=male|V=Donald) = 0.214321628636\n",
      "\n",
      "\t bernie                   donald                   hillary                   ted                   \n",
      "male  0.398132990181  0.214321628636  0.363555529929  0.278437575417  \n",
      "female  0.601867009819  0.785678371364  0.636444470071  0.721562424583  \n",
      "\n",
      "run time = 0.005324125289916992\n"
     ]
    }
   ],
   "source": [
    "import time \n",
    "start = time.time()\n",
    "gender.pmfs[gender.parents][\"male\"] = 0.3\n",
    "gender.pmfs[gender.parents][\"female\"] = 0.7\n",
    "\n",
    "# Solution goes here\n",
    "G_V_combinations = list(itertools.product(gender.outcomes, vote.outcomes)) \n",
    "# print(G_V_combinations[0][1])\n",
    "p_V = {}\n",
    "for outcome in vote.outcomes:\n",
    "    p_V[outcome] = 0\n",
    "p_G_V = {}\n",
    "p_GgV = {}\n",
    "\n",
    "# compute p(G, V)\n",
    "\n",
    "for comb in G_V_combinations:\n",
    "    p_G_V[comb] = 0\n",
    "\"\"\"by using nested for loops create all possible combinations of all variables' outcomes and compute each probabilities\"\"\"\n",
    "for r in region.outcomes:\n",
    "    p_r = region.pmfs[region.parents][r]\n",
    "    for g in gender.outcomes:\n",
    "        p_g = gender.pmfs[gender.parents][g]\n",
    "        for h in hand.outcomes:\n",
    "            p_h = hand.pmfs[hand.parents][h]\n",
    "            for j in jacket.outcomes:\n",
    "                p_j = jacket.pmfs[(r,g)][j]\n",
    "                for a in age.outcomes:\n",
    "                    p_a = age.pmfs[(j,)][a]\n",
    "                    for c in colour.outcomes:\n",
    "                        p_c = colour.pmfs[(g,h)][c]\n",
    "                        for v in vote.outcomes:\n",
    "                            p_v = vote.pmfs[(r,a,c)][v]\n",
    "                            p_G_V[(g,v)] += p_r*p_h*p_j*p_a*p_c*p_g*p_v\n",
    "# compute p(V)                     \n",
    "for r in region.outcomes:\n",
    "    p_r = region.pmfs[region.parents][r]\n",
    "    for g in gender.outcomes:\n",
    "        p_g = gender.pmfs[gender.parents][g]\n",
    "        for h in hand.outcomes:\n",
    "            p_h = hand.pmfs[hand.parents][h]\n",
    "            for j in jacket.outcomes:\n",
    "                p_j = jacket.pmfs[(r,g)][j]\n",
    "                for a in age.outcomes:\n",
    "                    p_a = age.pmfs[(j,)][a]\n",
    "                    for c in colour.outcomes:\n",
    "                        p_c = colour.pmfs[(g,h)][c]\n",
    "                        for v in vote.outcomes:\n",
    "                            p_v = vote.pmfs[(r,a,c)][v]\n",
    "                            p_V[v] += p_r*p_g*p_h*p_j*p_a*p_c*p_v            \n",
    "# print(p_V)\n",
    "# print(p_G_V)\n",
    "\n",
    "# compute p(G | V)\n",
    "for G_V_combination in G_V_combinations:\n",
    "    p_GgV[G_V_combination] = p_G_V[G_V_combination]/p_V[G_V_combination[1]]\n",
    "# print(p_GgV)\n",
    "\n",
    "print(\"p(G=male|V=Donald) = \" + str(p_GgV[(\"male\",\"donald\")]))\n",
    "print()\n",
    "\n",
    "print(\"\\t \", end=\"\")\n",
    "for v in vote.outcomes:\n",
    "    print(v, end=\"                   \")\n",
    "print()\n",
    "for g in gender.outcomes:\n",
    "    print(g, end=\"  \")\n",
    "    for v in vote.outcomes:\n",
    "#         print(round(p_GgV[(g,v)],2), end=\" \")\n",
    "        print(p_GgV[(g,v)], end=\"  \")\n",
    "    print()\n",
    "print()\n",
    "end = time.time()\n",
    "print(\"run time = \" + str(end - start))"
   ]
  },
  {
   "cell_type": "markdown",
   "metadata": {},
   "source": [
    "### 1B6 (2 marks) Variable elimination\n",
    "\n",
    "Denote the graphical model consider thus far $\\mathcal{M}$.\n",
    "\n",
    "1. Derive $p(R,G,J,A,C,V)$ by marginalising over $H$ in $\\mathcal{M}$. \n",
    "- Describe how the structure (connectivity) of the new graphical model (call it $\\mathcal{M}_H$) over all variables other than $H$ changes after eliminating $H$ in this way.\n",
    "- Describe which conditional(s) in the new graphical model differ from the original model.\n",
    "- Encode the $\\mathcal{M}_H$ in python similarly to $\\mathcal{M}$. "
   ]
  },
  {
   "cell_type": "code",
   "execution_count": 13,
   "metadata": {
    "collapsed": false
   },
   "outputs": [
    {
     "name": "stdout",
     "output_type": "stream",
     "text": [
      "{('female', 'white'): 0.57190000000000007, ('male', 'white'): 0.032100000000000004, ('male', 'black'): 0.26790000000000003, ('female', 'black'): 0.12810000000000002}\n",
      "{('female', 'white'): 0.81700000000000017, ('male', 'white'): 0.10700000000000001, ('male', 'black'): 0.89300000000000013, ('female', 'black'): 0.18300000000000005}\n"
     ]
    }
   ],
   "source": [
    "# Solution goes here\n",
    "\"\"\"compute the joint probability p(G,H,C) first and marginalise the hand\"\"\"\n",
    "GHC_combination = set()\n",
    "p_GHC = {}\n",
    "for g in gender.outcomes:\n",
    "    p_g = gender.pmfs[gender.parents][g]\n",
    "    for h in hand.outcomes:\n",
    "        p_h = hand.pmfs[hand.parents][h]\n",
    "        for c in colour.outcomes:\n",
    "            p_c = colour.pmfs[(g,h)][c]\n",
    "#             GHC_combination.add((g,h,c))\n",
    "            p_GHC[(g,h,c)] = p_g * p_h * p_c\n",
    "\n",
    "p_GC = {}\n",
    "for g in gender.outcomes:\n",
    "    for c in colour.outcomes:\n",
    "        p_GC[(g,c)] = 0\n",
    "for key in p_GHC.keys():\n",
    "        p_GC[(key[0], key[2])] += p_GHC[key]\n",
    "        \n",
    "print(p_GC)\n",
    "p_CgG = {}\n",
    "for key in p_GC.keys():\n",
    "    p_CgG[key] = p_GC[key]/gender.pmfs[gender.parents][key[0]]\n",
    "print(p_CgG)   \n",
    "\n",
    "#encode the new colour node. Other variables are the same as the original ones.\n",
    "new_colour_pmf_array = np.array(\n",
    "        [\n",
    "            [0.893,0.183],\n",
    "            [0.107,0.817],\n",
    "        ]\n",
    "    )\n",
    "new_colour = RandomVariable(\n",
    "    name='colour',\n",
    "    parents=(gender,),\n",
    "    outcomes=('black', 'white'),\n",
    "    pmf_array = new_colour_pmf_array\n",
    ")\n",
    "\n",
    "# print(new_colour.pmfs[(\"female\",)][\"white\"])"
   ]
  },
  {
   "cell_type": "markdown",
   "metadata": {},
   "source": [
    "2.Hand is independent from any other nodes except for colour. Therefore, even if hand is eliminated from the graphical model, it does not affect on the structure of it. \n",
    "\n",
    "3.Only colour variable will be different from original model."
   ]
  },
  {
   "cell_type": "markdown",
   "metadata": {},
   "source": [
    "### 1B6 (3 marks) General estimation of conditional probabilities (revisited)\n",
    "\n",
    "1. As you did earlier, compute and display in a human friendly format the conditional distributions $p(G=g \\,|\\, V=v)$ for all genders $g$ and votes $v$, by naively marginalising the other variables (other than $G$ and $V$, that is). This time however, do so using $\\mathcal{M}_H$ rather than $\\mathcal{M}$.\n",
    "- Quantify the computational advantages of using $\\mathcal{M}_H$ in this way rather than $\\mathcal{M}$.\n",
    "- Which variable (or variables) would be the best to eliminate in this way, in terms of the aforementioned computational advantages, and why?\n",
    "- Pick a (best) variable from the previous question and call it $X$. Assuming we have eliminated $X$, which would be the \"best\" variable to subsequently eliminate in a similar fashion?"
   ]
  },
  {
   "cell_type": "code",
   "execution_count": 14,
   "metadata": {
    "collapsed": false
   },
   "outputs": [
    {
     "name": "stdout",
     "output_type": "stream",
     "text": [
      "\t bernie                   donald                   hillary                   ted                   \n",
      "male  0.398132990181  0.214321628636  0.363555529929  0.278437575417  \n",
      "female  0.601867009819  0.785678371364  0.636444470071  0.721562424583  \n",
      "run time = 0.0030379295349121094\n"
     ]
    }
   ],
   "source": [
    "# Solution goes here\n",
    "\n",
    "start = time.time()\n",
    "\n",
    "vote = RandomVariable(\n",
    "    name='vote',\n",
    "    parents=(region, age, new_colour),\n",
    "    outcomes=vote_outcomes,\n",
    "    pmf_array = vote_pmf_array\n",
    ")\n",
    "# compute p(G, V)\n",
    "\"\"\"compute new conditional distributions p(G|V) by computing with same algorithm as last question with new graphical model: without hand node\"\"\"\n",
    "p_G_V = {}\n",
    "for comb in G_V_combinations:\n",
    "    p_G_V[comb] = 0\n",
    "for r in region.outcomes:\n",
    "    p_r = region.pmfs[region.parents][r]\n",
    "    for g in gender.outcomes:\n",
    "        p_g = gender.pmfs[gender.parents][g]\n",
    "        for j in jacket.outcomes:\n",
    "            p_j = jacket.pmfs[(r,g)][j]\n",
    "            for a in age.outcomes:\n",
    "                p_a = age.pmfs[(j,)][a]\n",
    "                for c in new_colour.outcomes:\n",
    "                    p_c = new_colour.pmfs[(g,)][c]\n",
    "                    for v in vote.outcomes:\n",
    "                        p_v = vote.pmfs[(r,a,c)][v]\n",
    "                        p_G_V[(g,v)] += p_r*p_j*p_a*p_c*p_g*p_v\n",
    "# compute p(V)                   \n",
    "p_V = {}\n",
    "for outcome in vote.outcomes:\n",
    "    p_V[outcome] = 0\n",
    "for r in region.outcomes:\n",
    "    p_r = region.pmfs[region.parents][r]\n",
    "    for g in gender.outcomes:\n",
    "        p_g = gender.pmfs[gender.parents][g]\n",
    "        for j in jacket.outcomes:\n",
    "            p_j = jacket.pmfs[(r,g)][j]\n",
    "            for a in age.outcomes:\n",
    "                p_a = age.pmfs[(j,)][a]\n",
    "                for c in new_colour.outcomes:\n",
    "                    p_c = new_colour.pmfs[(g,)][c]\n",
    "                    for v in vote.outcomes:\n",
    "                        p_v = vote.pmfs[(r,a,c)][v]\n",
    "                        p_V[v] += p_r*p_g*p_j*p_a*p_c*p_v\n",
    "\n",
    "\n",
    "\n",
    "# compute p(G | V)\n",
    "for G_V_combination in G_V_combinations:\n",
    "    p_GgV[G_V_combination] = p_G_V[G_V_combination]/p_V[G_V_combination[1]]\n",
    "# print(p_GgV)\n",
    "\n",
    "print(\"\\t \", end=\"\")\n",
    "for v in vote.outcomes:\n",
    "    print(v, end=\"                   \")\n",
    "print()\n",
    "for g in gender.outcomes:\n",
    "    print(g, end=\"  \")\n",
    "    for v in vote.outcomes:\n",
    "#         print(round(p_GgV[(g,v)],2), end=\" \")\n",
    "        print(p_GgV[(g,v)], end=\"  \")\n",
    "    print()\n",
    "end = time.time()\n",
    "print(\"run time = \" + str(end - start))"
   ]
  },
  {
   "cell_type": "markdown",
   "metadata": {},
   "source": [
    "2.By removing hand node from the original graphical model, we can reduce a half of the number of combinatins of other nodes' outcomes, because hand node has 2 outcomes (right and left).\n",
    "Therefore, computation processes should also become half and the program gets twice faster.\n",
    "\n",
    "3.If you think about only computational advantages, region would be the best variable to remove, because region node has the most number of outcomes which is 4. By removing region node from the graphical model, you will get quarter number of combinations of outcomes of other nodes.\n",
    "\n",
    "4.Jacket and Age are the canidates to eliminate subsequently, because they have 3 outcomes which is the most among the remaining nodes of the graphical model. However, I assume that we are trying to predict vote by using other nodes. In this case, age is directly dependent on vote, so we should not eliminate it. Hence, jacket node would be the best node to eliminate subsequently to improve this model in terms of computational advantages."
   ]
  },
  {
   "cell_type": "markdown",
   "metadata": {},
   "source": [
    "## Part 2: Theory"
   ]
  },
  {
   "cell_type": "markdown",
   "metadata": {},
   "source": [
    "### 2A (3 marks) Functions of random variables\n",
    "\n",
    "$u$ and $v$ are independently sampled from the standard uniform distribution on the unit interval, $[0,1]$. \n",
    "\n",
    "If $s^2=(2u-1)^2+(2v-1)^2 \\geq 1$ then $x$ is sampled from the standard normal distribution, $\\mathcal{N}(0,1)$. Otherwise $x=(2u-1)\\sqrt{-2 \\log(s)/s}$.\n",
    "\n",
    "How is $x$ distributed?"
   ]
  },
  {
   "cell_type": "markdown",
   "metadata": {},
   "source": [
    "### Solution description\n",
    "Set $2u - 1 = U$  and  $2v - 1 = V$.\n",
    "<br/>\n",
    "<br/>\n",
    "Since $u$ and $v$ are independently sampled from standard uniform distribution, $U$ and $V$ are uniformly distributed over $(-1, 1)$.\n",
    "<br/>\n",
    "<br/>\n",
    "Convert these two variables to polar coordinates\n",
    "$$ U = r cos\\theta ,  V = r sin\\theta$$\n",
    "Therefore, $$ r^2 = U^2 + V^2$$ \n",
    "Also the Jacobian of this conversion is $ \\dfrac{dU dV}{dr d\\theta} = r $.\n",
    "<br/>\n",
    "<br/>\n",
    "When $s=(2u-1)^2+(2v-1)^2 < 1$, $x$ is calculated by $x=(2u-1)\\sqrt{-2 \\log(s)/s}$.\n",
    "<br/>\n",
    "<br/>\n",
    "Set $x = rcos\\theta \\sqrt{\\dfrac{-2 log (r^2)}{r^2}}$ and $y = rsin\\theta \\sqrt{\\dfrac{-2 log (r^2)}{r^2}}$\n",
    "<br/>\n",
    "<br/>\n",
    "The Jacobian of this conversion is\n",
    "$ \\dfrac{dxdy}{dr d\\theta} = \\dfrac{2}{r} $\n",
    "<br/>\n",
    "<br/>\n",
    "According to Bishop - Pattern Recognition and Machine Learning p528, formula (11.12), $$p(x,y) = p(U,V) \\begin{vmatrix} \\dfrac{\\partial(U,V)}{\\partial(x,y)} \\end{vmatrix} \n",
    "$$\n",
    "Also according to Bishop - Pattern Recognition and Machine Learning p527,\n",
    "<br/>\n",
    "for pairs of uniformly distributed random numbers $z_1 , z_2 \\in (-1,1)$ ,\n",
    "<br/>\n",
    "the probability that $z_1$ and $z_2$ satisfy $z_1^2 + z_2^2 \\leq 1$ is expressed as $p(z_1,z_2) = \\dfrac{1}{\\pi}$\n",
    "<br/>\n",
    "Therefore, \n",
    "$p(U,V) = \\dfrac{1}{\\pi}$\n",
    "<br/>\n",
    "<br/>\n",
    "$$ p(x,y) = p(U,V) \\begin{vmatrix} \\dfrac{\\partial(U,V)}{\\partial(x,y)} \\end{vmatrix} = p(U,V) \\dfrac{dUdV}{drd\\theta} \\dfrac{drd\\theta}{dxdy}$$\n",
    "\n",
    "\\begin{equation}\n",
    "\\begin{split}\n",
    "p(x,y) \n",
    "  &=\n",
    "  p(U,V) \\begin{vmatrix} \\dfrac{\\partial(U,V)}{\\partial(x,y)} \\end{vmatrix}\n",
    "  \\\\&=\n",
    "  p(U,V) \\dfrac{dUdV}{drd\\theta} \\dfrac{drd\\theta}{dxdy}\n",
    "  \\\\&=\n",
    "  \\dfrac{1}{\\pi} \\times r \\times \\dfrac{r}{2}\n",
    "  \\\\&=\n",
    "  \\dfrac{1}{\\pi} \\times \\dfrac{r^2}{2}\n",
    "\\end{split}\n",
    "\\end{equation}\n",
    "<br/>\n",
    "<br/>\n",
    "Since $$x = rcos\\theta \\sqrt{\\dfrac{-2 log (r^2)}{r^2}} \\text{  and  } y = rsin\\theta \\sqrt{\\dfrac{-2 log (r^2)}{r^2}}$$\n",
    "\\begin{equation}\n",
    "\\begin{split}\n",
    "x^2 + y^2 \n",
    "  &=\n",
    "  -2 log r^2 cos^2\\theta -2 log r^2 sin^2\\theta\n",
    "  \\\\&=\n",
    "  -2 log r^2\n",
    "\\end{split}\n",
    "\\end{equation}\n",
    "\n",
    "$$ log r^2 = -\\dfrac{x^2 + y^2}{2} $$\n",
    "\n",
    "$$ r^2 = exp(-\\dfrac{x^2 + y^2}{2}) $$\n",
    "\n",
    "Plug this in $p(x,y)$ and we get\n",
    "$$ p(x,y) = \\dfrac{1}{2\\pi} exp(-\\dfrac{x^2 + y^2}{2})  $$\n",
    "\\begin{equation}\n",
    "\\begin{split}\n",
    "p(x,y)\n",
    "  &=\n",
    "  \\dfrac{1}{2\\pi} exp(-\\dfrac{x^2 + y^2}{2})\n",
    "  \\\\&=\n",
    "  \\dfrac{1}{\\sqrt{2\\pi}} exp(-\\dfrac{x^2}{2}) \\times \\dfrac{1}{\\sqrt{2\\pi}} exp(-\\dfrac{y^2}{2})\n",
    "\\end{split}\n",
    "\\end{equation}\n",
    "\n",
    "Hence, x's distribution is standard normal distribution. "
   ]
  },
  {
   "cell_type": "markdown",
   "metadata": {},
   "source": []
  },
  {
   "cell_type": "code",
   "execution_count": null,
   "metadata": {
    "collapsed": true
   },
   "outputs": [],
   "source": []
  }
 ],
 "metadata": {
  "kernelspec": {
   "display_name": "Python 3",
   "language": "python",
   "name": "python3"
  },
  "language_info": {
   "codemirror_mode": {
    "name": "ipython",
    "version": 3
   },
   "file_extension": ".py",
   "mimetype": "text/x-python",
   "name": "python",
   "nbconvert_exporter": "python",
   "pygments_lexer": "ipython3",
   "version": "3.5.2"
  }
 },
 "nbformat": 4,
 "nbformat_minor": 0
}
